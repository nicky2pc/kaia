{
 "cells": [
  {
   "cell_type": "code",
   "execution_count": 3,
   "id": "fef236cf-a8ff-4850-a5d0-72ad38ca80ad",
   "metadata": {},
   "outputs": [],
   "source": [
    "import torchaudio as ta\n",
    "from chatterbox.mtl_tts import ChatterboxMultilingualTTS\n",
    "from IPython.display import Audio, display\n",
    "import torch\n"
   ]
  },
  {
   "cell_type": "code",
   "execution_count": 4,
   "id": "9204f6dc-5905-499b-8809-45ea1a0d0395",
   "metadata": {},
   "outputs": [
    {
     "ename": "TypeError",
     "evalue": "ChatterboxMultilingualTTS.from_pretrained() missing 1 required positional argument: 'device'",
     "output_type": "error",
     "traceback": [
      "\u001b[31m---------------------------------------------------------------------------\u001b[39m",
      "\u001b[31mTypeError\u001b[39m                                 Traceback (most recent call last)",
      "\u001b[36mCell\u001b[39m\u001b[36m \u001b[39m\u001b[32mIn[4]\u001b[39m\u001b[32m, line 2\u001b[39m\n\u001b[32m      1\u001b[39m \u001b[38;5;66;03m# принудительно грузим модель на CPU\u001b[39;00m\n\u001b[32m----> \u001b[39m\u001b[32m2\u001b[39m model = \u001b[43mChatterboxMultilingualTTS\u001b[49m\u001b[43m.\u001b[49m\u001b[43mfrom_pretrained\u001b[49m\u001b[43m(\u001b[49m\u001b[43m)\u001b[49m\n",
      "\u001b[31mTypeError\u001b[39m: ChatterboxMultilingualTTS.from_pretrained() missing 1 required positional argument: 'device'"
     ]
    }
   ],
   "source": [
    "\n",
    "# принудительно грузим модель на CPU\n",
    "model = ChatterboxMultilingualTTS.from_pretrained(device=\"cpu\")\n"
   ]
  },
  {
   "cell_type": "code",
   "execution_count": null,
   "id": "62b0163f-9110-4805-b0e6-c4ecaeeafac8",
   "metadata": {},
   "outputs": [],
   "source": [
    "\n",
    "# явно указываем что все веса грузим на cpu\n",
    "for name, module in model.__dict__.items():\n",
    "    if isinstance(module, torch.nn.Module):\n",
    "        module.to(\"cpu\")\n",
    "\n",
    "# путь к голосовому сэмплу\n",
    "AUDIO_PROMPT_PATH = \"files/lina.wav\"\n",
    "\n",
    "texts = {\n",
    "    \"en\": \"Hello! This is Lina's voice speaking English with Chatterbox.\",\n",
    "    \"ru\": \"Привет! Это голос Лины, говорящий по-русски с помощью Chatterbox.\",\n",
    "    \"de\": \"Hallo! Dies ist Linas Stimme, die Deutsch mit Chatterbox spricht.\"\n",
    "}"
   ]
  },
  {
   "cell_type": "code",
   "execution_count": null,
   "id": "48b4d8b2-8a2f-41c0-bb99-e338b5b1f129",
   "metadata": {},
   "outputs": [],
   "source": [
    "\n",
    "\n",
    "for lang, text in texts.items():\n",
    "    wav = model.generate(text, language_id=lang, audio_prompt_path=AUDIO_PROMPT_PATH)\n",
    "    print(f\"▶ Lina — {lang.upper()}:\")\n",
    "    display(Audio(wav.cpu().numpy(), rate=model.sr))\n"
   ]
  },
  {
   "cell_type": "code",
   "execution_count": null,
   "id": "e6077431-79ad-432a-a79b-6a72d2d8ae8d",
   "metadata": {},
   "outputs": [],
   "source": []
  },
  {
   "cell_type": "code",
   "execution_count": 1,
   "id": "4075061b-af2f-4698-8fd9-1fe23a5afee2",
   "metadata": {},
   "outputs": [
    {
     "name": "stdout",
     "output_type": "stream",
     "text": [
      "Collecting chatterbox-tts\n",
      "  Using cached chatterbox_tts-0.1.4-py3-none-any.whl.metadata (9.2 kB)\n",
      "Requirement already satisfied: numpy<1.26.0,>=1.24.0 in c:\\users\\nick\\anaconda\\envs\\chatterbox\\lib\\site-packages (from chatterbox-tts) (1.25.2)\n",
      "Requirement already satisfied: librosa==0.11.0 in c:\\users\\nick\\anaconda\\envs\\chatterbox\\lib\\site-packages (from chatterbox-tts) (0.11.0)\n",
      "Requirement already satisfied: s3tokenizer in c:\\users\\nick\\anaconda\\envs\\chatterbox\\lib\\site-packages (from chatterbox-tts) (0.2.0)\n",
      "Requirement already satisfied: torch==2.6.0 in c:\\users\\nick\\anaconda\\envs\\chatterbox\\lib\\site-packages (from chatterbox-tts) (2.6.0)\n",
      "Requirement already satisfied: torchaudio==2.6.0 in c:\\users\\nick\\anaconda\\envs\\chatterbox\\lib\\site-packages (from chatterbox-tts) (2.6.0)\n",
      "Requirement already satisfied: transformers==4.46.3 in c:\\users\\nick\\anaconda\\envs\\chatterbox\\lib\\site-packages (from chatterbox-tts) (4.46.3)\n",
      "Requirement already satisfied: diffusers==0.29.0 in c:\\users\\nick\\anaconda\\envs\\chatterbox\\lib\\site-packages (from chatterbox-tts) (0.29.0)\n",
      "Requirement already satisfied: resemble-perth==1.0.1 in c:\\users\\nick\\anaconda\\envs\\chatterbox\\lib\\site-packages (from chatterbox-tts) (1.0.1)\n",
      "Requirement already satisfied: conformer==0.3.2 in c:\\users\\nick\\anaconda\\envs\\chatterbox\\lib\\site-packages (from chatterbox-tts) (0.3.2)\n",
      "Requirement already satisfied: safetensors==0.5.3 in c:\\users\\nick\\anaconda\\envs\\chatterbox\\lib\\site-packages (from chatterbox-tts) (0.5.3)\n",
      "Requirement already satisfied: pkuseg==0.0.25 in c:\\users\\nick\\anaconda\\envs\\chatterbox\\lib\\site-packages (from chatterbox-tts) (0.0.25)\n",
      "Requirement already satisfied: pykakasi==2.3.0 in c:\\users\\nick\\anaconda\\envs\\chatterbox\\lib\\site-packages (from chatterbox-tts) (2.3.0)\n",
      "Requirement already satisfied: gradio==5.44.1 in c:\\users\\nick\\anaconda\\envs\\chatterbox\\lib\\site-packages (from chatterbox-tts) (5.44.1)\n",
      "Requirement already satisfied: einops>=0.6.1 in c:\\users\\nick\\anaconda\\envs\\chatterbox\\lib\\site-packages (from conformer==0.3.2->chatterbox-tts) (0.8.1)\n",
      "Requirement already satisfied: importlib-metadata in c:\\users\\nick\\anaconda\\envs\\chatterbox\\lib\\site-packages (from diffusers==0.29.0->chatterbox-tts) (8.7.0)\n",
      "Requirement already satisfied: filelock in c:\\users\\nick\\anaconda\\envs\\chatterbox\\lib\\site-packages (from diffusers==0.29.0->chatterbox-tts) (3.20.0)\n",
      "Requirement already satisfied: huggingface-hub>=0.23.2 in c:\\users\\nick\\anaconda\\envs\\chatterbox\\lib\\site-packages (from diffusers==0.29.0->chatterbox-tts) (0.35.3)\n",
      "Requirement already satisfied: regex!=2019.12.17 in c:\\users\\nick\\anaconda\\envs\\chatterbox\\lib\\site-packages (from diffusers==0.29.0->chatterbox-tts) (2025.9.18)\n",
      "Requirement already satisfied: requests in c:\\users\\nick\\anaconda\\envs\\chatterbox\\lib\\site-packages (from diffusers==0.29.0->chatterbox-tts) (2.32.5)\n",
      "Requirement already satisfied: Pillow in c:\\users\\nick\\anaconda\\envs\\chatterbox\\lib\\site-packages (from diffusers==0.29.0->chatterbox-tts) (11.3.0)\n",
      "Requirement already satisfied: aiofiles<25.0,>=22.0 in c:\\users\\nick\\anaconda\\envs\\chatterbox\\lib\\site-packages (from gradio==5.44.1->chatterbox-tts) (24.1.0)\n",
      "Requirement already satisfied: anyio<5.0,>=3.0 in c:\\users\\nick\\anaconda\\envs\\chatterbox\\lib\\site-packages (from gradio==5.44.1->chatterbox-tts) (4.11.0)\n",
      "Requirement already satisfied: brotli>=1.1.0 in c:\\users\\nick\\anaconda\\envs\\chatterbox\\lib\\site-packages (from gradio==5.44.1->chatterbox-tts) (1.1.0)\n",
      "Requirement already satisfied: fastapi<1.0,>=0.115.2 in c:\\users\\nick\\anaconda\\envs\\chatterbox\\lib\\site-packages (from gradio==5.44.1->chatterbox-tts) (0.119.0)\n",
      "Requirement already satisfied: ffmpy in c:\\users\\nick\\anaconda\\envs\\chatterbox\\lib\\site-packages (from gradio==5.44.1->chatterbox-tts) (0.6.3)\n",
      "Requirement already satisfied: gradio-client==1.12.1 in c:\\users\\nick\\anaconda\\envs\\chatterbox\\lib\\site-packages (from gradio==5.44.1->chatterbox-tts) (1.12.1)\n",
      "Requirement already satisfied: groovy~=0.1 in c:\\users\\nick\\anaconda\\envs\\chatterbox\\lib\\site-packages (from gradio==5.44.1->chatterbox-tts) (0.1.2)\n",
      "Requirement already satisfied: httpx<1.0,>=0.24.1 in c:\\users\\nick\\anaconda\\envs\\chatterbox\\lib\\site-packages (from gradio==5.44.1->chatterbox-tts) (0.28.1)\n",
      "Requirement already satisfied: jinja2<4.0 in c:\\users\\nick\\anaconda\\envs\\chatterbox\\lib\\site-packages (from gradio==5.44.1->chatterbox-tts) (3.1.6)\n",
      "Requirement already satisfied: markupsafe<4.0,>=2.0 in c:\\users\\nick\\anaconda\\envs\\chatterbox\\lib\\site-packages (from gradio==5.44.1->chatterbox-tts) (3.0.3)\n",
      "Requirement already satisfied: orjson~=3.0 in c:\\users\\nick\\anaconda\\envs\\chatterbox\\lib\\site-packages (from gradio==5.44.1->chatterbox-tts) (3.11.3)\n",
      "Requirement already satisfied: packaging in c:\\users\\nick\\anaconda\\envs\\chatterbox\\lib\\site-packages (from gradio==5.44.1->chatterbox-tts) (25.0)\n",
      "Requirement already satisfied: pandas<3.0,>=1.0 in c:\\users\\nick\\anaconda\\envs\\chatterbox\\lib\\site-packages (from gradio==5.44.1->chatterbox-tts) (2.3.3)\n",
      "Requirement already satisfied: pydantic<2.12,>=2.0 in c:\\users\\nick\\anaconda\\envs\\chatterbox\\lib\\site-packages (from gradio==5.44.1->chatterbox-tts) (2.11.10)\n",
      "Requirement already satisfied: pydub in c:\\users\\nick\\anaconda\\envs\\chatterbox\\lib\\site-packages (from gradio==5.44.1->chatterbox-tts) (0.25.1)\n",
      "Requirement already satisfied: python-multipart>=0.0.18 in c:\\users\\nick\\anaconda\\envs\\chatterbox\\lib\\site-packages (from gradio==5.44.1->chatterbox-tts) (0.0.20)\n",
      "Requirement already satisfied: pyyaml<7.0,>=5.0 in c:\\users\\nick\\anaconda\\envs\\chatterbox\\lib\\site-packages (from gradio==5.44.1->chatterbox-tts) (6.0.3)\n",
      "Requirement already satisfied: ruff>=0.9.3 in c:\\users\\nick\\anaconda\\envs\\chatterbox\\lib\\site-packages (from gradio==5.44.1->chatterbox-tts) (0.14.0)\n",
      "Requirement already satisfied: safehttpx<0.2.0,>=0.1.6 in c:\\users\\nick\\anaconda\\envs\\chatterbox\\lib\\site-packages (from gradio==5.44.1->chatterbox-tts) (0.1.6)\n",
      "Requirement already satisfied: semantic-version~=2.0 in c:\\users\\nick\\anaconda\\envs\\chatterbox\\lib\\site-packages (from gradio==5.44.1->chatterbox-tts) (2.10.0)\n",
      "Requirement already satisfied: starlette<1.0,>=0.40.0 in c:\\users\\nick\\anaconda\\envs\\chatterbox\\lib\\site-packages (from gradio==5.44.1->chatterbox-tts) (0.48.0)\n",
      "Requirement already satisfied: tomlkit<0.14.0,>=0.12.0 in c:\\users\\nick\\anaconda\\envs\\chatterbox\\lib\\site-packages (from gradio==5.44.1->chatterbox-tts) (0.13.3)\n",
      "Requirement already satisfied: typer<1.0,>=0.12 in c:\\users\\nick\\anaconda\\envs\\chatterbox\\lib\\site-packages (from gradio==5.44.1->chatterbox-tts) (0.19.2)\n",
      "Requirement already satisfied: typing-extensions~=4.0 in c:\\users\\nick\\anaconda\\envs\\chatterbox\\lib\\site-packages (from gradio==5.44.1->chatterbox-tts) (4.15.0)\n",
      "Requirement already satisfied: uvicorn>=0.14.0 in c:\\users\\nick\\anaconda\\envs\\chatterbox\\lib\\site-packages (from gradio==5.44.1->chatterbox-tts) (0.37.0)\n",
      "Requirement already satisfied: fsspec in c:\\users\\nick\\anaconda\\envs\\chatterbox\\lib\\site-packages (from gradio-client==1.12.1->gradio==5.44.1->chatterbox-tts) (2025.9.0)\n",
      "Requirement already satisfied: websockets<16.0,>=10.0 in c:\\users\\nick\\anaconda\\envs\\chatterbox\\lib\\site-packages (from gradio-client==1.12.1->gradio==5.44.1->chatterbox-tts) (15.0.1)\n",
      "Requirement already satisfied: audioread>=2.1.9 in c:\\users\\nick\\anaconda\\envs\\chatterbox\\lib\\site-packages (from librosa==0.11.0->chatterbox-tts) (3.0.1)\n",
      "Requirement already satisfied: numba>=0.51.0 in c:\\users\\nick\\anaconda\\envs\\chatterbox\\lib\\site-packages (from librosa==0.11.0->chatterbox-tts) (0.62.1)\n",
      "Requirement already satisfied: scipy>=1.6.0 in c:\\users\\nick\\anaconda\\envs\\chatterbox\\lib\\site-packages (from librosa==0.11.0->chatterbox-tts) (1.16.2)\n",
      "Requirement already satisfied: scikit-learn>=1.1.0 in c:\\users\\nick\\anaconda\\envs\\chatterbox\\lib\\site-packages (from librosa==0.11.0->chatterbox-tts) (1.7.2)\n",
      "Requirement already satisfied: joblib>=1.0 in c:\\users\\nick\\anaconda\\envs\\chatterbox\\lib\\site-packages (from librosa==0.11.0->chatterbox-tts) (1.5.2)\n",
      "Requirement already satisfied: decorator>=4.3.0 in c:\\users\\nick\\anaconda\\envs\\chatterbox\\lib\\site-packages (from librosa==0.11.0->chatterbox-tts) (5.2.1)\n",
      "Requirement already satisfied: soundfile>=0.12.1 in c:\\users\\nick\\anaconda\\envs\\chatterbox\\lib\\site-packages (from librosa==0.11.0->chatterbox-tts) (0.13.1)\n",
      "Requirement already satisfied: pooch>=1.1 in c:\\users\\nick\\anaconda\\envs\\chatterbox\\lib\\site-packages (from librosa==0.11.0->chatterbox-tts) (1.8.2)\n",
      "Requirement already satisfied: soxr>=0.3.2 in c:\\users\\nick\\anaconda\\envs\\chatterbox\\lib\\site-packages (from librosa==0.11.0->chatterbox-tts) (1.0.0)\n",
      "Requirement already satisfied: lazy_loader>=0.1 in c:\\users\\nick\\anaconda\\envs\\chatterbox\\lib\\site-packages (from librosa==0.11.0->chatterbox-tts) (0.4)\n",
      "Requirement already satisfied: msgpack>=1.0 in c:\\users\\nick\\anaconda\\envs\\chatterbox\\lib\\site-packages (from librosa==0.11.0->chatterbox-tts) (1.1.2)\n",
      "Requirement already satisfied: cython in c:\\users\\nick\\anaconda\\envs\\chatterbox\\lib\\site-packages (from pkuseg==0.0.25->chatterbox-tts) (3.1.4)\n",
      "Requirement already satisfied: jaconv in c:\\users\\nick\\anaconda\\envs\\chatterbox\\lib\\site-packages (from pykakasi==2.3.0->chatterbox-tts) (0.4.0)\n",
      "Requirement already satisfied: deprecated in c:\\users\\nick\\anaconda\\envs\\chatterbox\\lib\\site-packages (from pykakasi==2.3.0->chatterbox-tts) (1.2.18)\n",
      "Requirement already satisfied: networkx in c:\\users\\nick\\anaconda\\envs\\chatterbox\\lib\\site-packages (from torch==2.6.0->chatterbox-tts) (3.5)\n",
      "Requirement already satisfied: sympy==1.13.1 in c:\\users\\nick\\anaconda\\envs\\chatterbox\\lib\\site-packages (from torch==2.6.0->chatterbox-tts) (1.13.1)\n",
      "Requirement already satisfied: mpmath<1.4,>=1.1.0 in c:\\users\\nick\\anaconda\\envs\\chatterbox\\lib\\site-packages (from sympy==1.13.1->torch==2.6.0->chatterbox-tts) (1.3.0)\n",
      "Requirement already satisfied: tokenizers<0.21,>=0.20 in c:\\users\\nick\\anaconda\\envs\\chatterbox\\lib\\site-packages (from transformers==4.46.3->chatterbox-tts) (0.20.3)\n",
      "Requirement already satisfied: tqdm>=4.27 in c:\\users\\nick\\anaconda\\envs\\chatterbox\\lib\\site-packages (from transformers==4.46.3->chatterbox-tts) (4.67.1)\n",
      "Requirement already satisfied: idna>=2.8 in c:\\users\\nick\\anaconda\\envs\\chatterbox\\lib\\site-packages (from anyio<5.0,>=3.0->gradio==5.44.1->chatterbox-tts) (3.11)\n",
      "Requirement already satisfied: sniffio>=1.1 in c:\\users\\nick\\anaconda\\envs\\chatterbox\\lib\\site-packages (from anyio<5.0,>=3.0->gradio==5.44.1->chatterbox-tts) (1.3.1)\n",
      "Requirement already satisfied: certifi in c:\\users\\nick\\anaconda\\envs\\chatterbox\\lib\\site-packages (from httpx<1.0,>=0.24.1->gradio==5.44.1->chatterbox-tts) (2025.10.5)\n",
      "Requirement already satisfied: httpcore==1.* in c:\\users\\nick\\anaconda\\envs\\chatterbox\\lib\\site-packages (from httpx<1.0,>=0.24.1->gradio==5.44.1->chatterbox-tts) (1.0.9)\n",
      "Requirement already satisfied: h11>=0.16 in c:\\users\\nick\\anaconda\\envs\\chatterbox\\lib\\site-packages (from httpcore==1.*->httpx<1.0,>=0.24.1->gradio==5.44.1->chatterbox-tts) (0.16.0)\n",
      "Requirement already satisfied: python-dateutil>=2.8.2 in c:\\users\\nick\\anaconda\\envs\\chatterbox\\lib\\site-packages (from pandas<3.0,>=1.0->gradio==5.44.1->chatterbox-tts) (2.9.0.post0)\n",
      "Requirement already satisfied: pytz>=2020.1 in c:\\users\\nick\\anaconda\\envs\\chatterbox\\lib\\site-packages (from pandas<3.0,>=1.0->gradio==5.44.1->chatterbox-tts) (2025.2)\n",
      "Requirement already satisfied: tzdata>=2022.7 in c:\\users\\nick\\anaconda\\envs\\chatterbox\\lib\\site-packages (from pandas<3.0,>=1.0->gradio==5.44.1->chatterbox-tts) (2025.2)\n",
      "Requirement already satisfied: annotated-types>=0.6.0 in c:\\users\\nick\\anaconda\\envs\\chatterbox\\lib\\site-packages (from pydantic<2.12,>=2.0->gradio==5.44.1->chatterbox-tts) (0.7.0)\n",
      "Requirement already satisfied: pydantic-core==2.33.2 in c:\\users\\nick\\anaconda\\envs\\chatterbox\\lib\\site-packages (from pydantic<2.12,>=2.0->gradio==5.44.1->chatterbox-tts) (2.33.2)\n",
      "Requirement already satisfied: typing-inspection>=0.4.0 in c:\\users\\nick\\anaconda\\envs\\chatterbox\\lib\\site-packages (from pydantic<2.12,>=2.0->gradio==5.44.1->chatterbox-tts) (0.4.2)\n",
      "Requirement already satisfied: click>=8.0.0 in c:\\users\\nick\\anaconda\\envs\\chatterbox\\lib\\site-packages (from typer<1.0,>=0.12->gradio==5.44.1->chatterbox-tts) (8.3.0)\n",
      "Requirement already satisfied: shellingham>=1.3.0 in c:\\users\\nick\\anaconda\\envs\\chatterbox\\lib\\site-packages (from typer<1.0,>=0.12->gradio==5.44.1->chatterbox-tts) (1.5.4)\n",
      "Requirement already satisfied: rich>=10.11.0 in c:\\users\\nick\\anaconda\\envs\\chatterbox\\lib\\site-packages (from typer<1.0,>=0.12->gradio==5.44.1->chatterbox-tts) (14.2.0)\n",
      "Requirement already satisfied: colorama in c:\\users\\nick\\anaconda\\envs\\chatterbox\\lib\\site-packages (from click>=8.0.0->typer<1.0,>=0.12->gradio==5.44.1->chatterbox-tts) (0.4.6)\n",
      "Requirement already satisfied: llvmlite<0.46,>=0.45.0dev0 in c:\\users\\nick\\anaconda\\envs\\chatterbox\\lib\\site-packages (from numba>=0.51.0->librosa==0.11.0->chatterbox-tts) (0.45.1)\n",
      "Requirement already satisfied: platformdirs>=2.5.0 in c:\\users\\nick\\anaconda\\envs\\chatterbox\\lib\\site-packages (from pooch>=1.1->librosa==0.11.0->chatterbox-tts) (4.5.0)\n",
      "Requirement already satisfied: six>=1.5 in c:\\users\\nick\\anaconda\\envs\\chatterbox\\lib\\site-packages (from python-dateutil>=2.8.2->pandas<3.0,>=1.0->gradio==5.44.1->chatterbox-tts) (1.17.0)\n",
      "Requirement already satisfied: charset_normalizer<4,>=2 in c:\\users\\nick\\anaconda\\envs\\chatterbox\\lib\\site-packages (from requests->diffusers==0.29.0->chatterbox-tts) (3.4.4)\n",
      "Requirement already satisfied: urllib3<3,>=1.21.1 in c:\\users\\nick\\anaconda\\envs\\chatterbox\\lib\\site-packages (from requests->diffusers==0.29.0->chatterbox-tts) (2.5.0)\n",
      "Requirement already satisfied: markdown-it-py>=2.2.0 in c:\\users\\nick\\anaconda\\envs\\chatterbox\\lib\\site-packages (from rich>=10.11.0->typer<1.0,>=0.12->gradio==5.44.1->chatterbox-tts) (4.0.0)\n",
      "Requirement already satisfied: pygments<3.0.0,>=2.13.0 in c:\\users\\nick\\anaconda\\envs\\chatterbox\\lib\\site-packages (from rich>=10.11.0->typer<1.0,>=0.12->gradio==5.44.1->chatterbox-tts) (2.19.2)\n",
      "Requirement already satisfied: mdurl~=0.1 in c:\\users\\nick\\anaconda\\envs\\chatterbox\\lib\\site-packages (from markdown-it-py>=2.2.0->rich>=10.11.0->typer<1.0,>=0.12->gradio==5.44.1->chatterbox-tts) (0.1.2)\n",
      "Requirement already satisfied: threadpoolctl>=3.1.0 in c:\\users\\nick\\anaconda\\envs\\chatterbox\\lib\\site-packages (from scikit-learn>=1.1.0->librosa==0.11.0->chatterbox-tts) (3.6.0)\n",
      "Requirement already satisfied: cffi>=1.0 in c:\\users\\nick\\anaconda\\envs\\chatterbox\\lib\\site-packages (from soundfile>=0.12.1->librosa==0.11.0->chatterbox-tts) (2.0.0)\n",
      "Requirement already satisfied: pycparser in c:\\users\\nick\\anaconda\\envs\\chatterbox\\lib\\site-packages (from cffi>=1.0->soundfile>=0.12.1->librosa==0.11.0->chatterbox-tts) (2.23)\n",
      "Requirement already satisfied: wrapt<2,>=1.10 in c:\\users\\nick\\anaconda\\envs\\chatterbox\\lib\\site-packages (from deprecated->pykakasi==2.3.0->chatterbox-tts) (1.17.3)\n",
      "Requirement already satisfied: zipp>=3.20 in c:\\users\\nick\\anaconda\\envs\\chatterbox\\lib\\site-packages (from importlib-metadata->diffusers==0.29.0->chatterbox-tts) (3.23.0)\n",
      "Requirement already satisfied: pre-commit in c:\\users\\nick\\anaconda\\envs\\chatterbox\\lib\\site-packages (from s3tokenizer->chatterbox-tts) (4.3.0)\n",
      "Requirement already satisfied: onnx in c:\\users\\nick\\anaconda\\envs\\chatterbox\\lib\\site-packages (from s3tokenizer->chatterbox-tts) (1.19.1)\n",
      "Requirement already satisfied: protobuf>=4.25.1 in c:\\users\\nick\\anaconda\\envs\\chatterbox\\lib\\site-packages (from onnx->s3tokenizer->chatterbox-tts) (6.33.0)\n",
      "Requirement already satisfied: ml_dtypes>=0.5.0 in c:\\users\\nick\\anaconda\\envs\\chatterbox\\lib\\site-packages (from onnx->s3tokenizer->chatterbox-tts) (0.5.3)\n",
      "Requirement already satisfied: cfgv>=2.0.0 in c:\\users\\nick\\anaconda\\envs\\chatterbox\\lib\\site-packages (from pre-commit->s3tokenizer->chatterbox-tts) (3.4.0)\n",
      "Requirement already satisfied: identify>=1.0.0 in c:\\users\\nick\\anaconda\\envs\\chatterbox\\lib\\site-packages (from pre-commit->s3tokenizer->chatterbox-tts) (2.6.15)\n",
      "Requirement already satisfied: nodeenv>=0.11.1 in c:\\users\\nick\\anaconda\\envs\\chatterbox\\lib\\site-packages (from pre-commit->s3tokenizer->chatterbox-tts) (1.9.1)\n",
      "Requirement already satisfied: virtualenv>=20.10.0 in c:\\users\\nick\\anaconda\\envs\\chatterbox\\lib\\site-packages (from pre-commit->s3tokenizer->chatterbox-tts) (20.35.3)\n",
      "Requirement already satisfied: distlib<1,>=0.3.7 in c:\\users\\nick\\anaconda\\envs\\chatterbox\\lib\\site-packages (from virtualenv>=20.10.0->pre-commit->s3tokenizer->chatterbox-tts) (0.4.0)\n",
      "Using cached chatterbox_tts-0.1.4-py3-none-any.whl (100 kB)\n",
      "Installing collected packages: chatterbox-tts\n",
      "Successfully installed chatterbox-tts-0.1.4\n"
     ]
    }
   ],
   "source": [
    "!pip install chatterbox-tts\n"
   ]
  },
  {
   "cell_type": "code",
   "execution_count": 5,
   "id": "a0c90c1a-f198-4016-b4b3-db1276908a54",
   "metadata": {},
   "outputs": [
    {
     "ename": "FileNotFoundError",
     "evalue": "[WinError 3] The system cannot find the path specified: '/home/app/.cache/'",
     "output_type": "error",
     "traceback": [
      "\u001b[31m---------------------------------------------------------------------------\u001b[39m",
      "\u001b[31mFileNotFoundError\u001b[39m                         Traceback (most recent call last)",
      "\u001b[36mCell\u001b[39m\u001b[36m \u001b[39m\u001b[32mIn[5]\u001b[39m\u001b[32m, line 3\u001b[39m\n\u001b[32m      1\u001b[39m \u001b[38;5;28;01mimport\u001b[39;00m\u001b[38;5;250m \u001b[39m\u001b[34;01mos\u001b[39;00m\n\u001b[32m----> \u001b[39m\u001b[32m3\u001b[39m \u001b[43mos\u001b[49m\u001b[43m.\u001b[49m\u001b[43mlistdir\u001b[49m\u001b[43m(\u001b[49m\u001b[33;43m'\u001b[39;49m\u001b[33;43m/home/app/.cache/\u001b[39;49m\u001b[33;43m'\u001b[39;49m\u001b[43m)\u001b[49m\n",
      "\u001b[31mFileNotFoundError\u001b[39m: [WinError 3] The system cannot find the path specified: '/home/app/.cache/'"
     ]
    }
   ],
   "source": [
    "import os\n",
    "\n",
    "os.listdir('/home/app/.cache/')"
   ]
  },
  {
   "cell_type": "code",
   "execution_count": null,
   "id": "898ec4bb-fb78-4895-83da-546d38294ea4",
   "metadata": {},
   "outputs": [],
   "source": [
    "!pip uninstall chatterbox-tts"
   ]
  },
  {
   "cell_type": "code",
   "execution_count": null,
   "id": "6442a982-2cc1-4b25-94dc-20309053fe5f",
   "metadata": {},
   "outputs": [],
   "source": [
    "\n"
   ]
  },
  {
   "cell_type": "code",
   "execution_count": 3,
   "id": "76e15f49-9937-4a74-b1ef-510ef9f602de",
   "metadata": {},
   "outputs": [],
   "source": [
    "from chatterbox.mtl_tts import *\n",
    "import torchaudio\n",
    "\n"
   ]
  },
  {
   "cell_type": "code",
   "execution_count": 4,
   "id": "0b03ca77-6e66-4d1a-a60a-125447b4f657",
   "metadata": {},
   "outputs": [
    {
     "data": {
      "application/vnd.jupyter.widget-view+json": {
       "model_id": "67e8e802ee524730841fc2944811f4f4",
       "version_major": 2,
       "version_minor": 0
      },
      "text/plain": [
       "Fetching 6 files:   0%|          | 0/6 [00:00<?, ?it/s]"
      ]
     },
     "metadata": {},
     "output_type": "display_data"
    },
    {
     "name": "stdout",
     "output_type": "stream",
     "text": [
      "loaded PerthNet (Implicit) at step 250,000\n"
     ]
    }
   ],
   "source": [
    "\n",
    "\n",
    "model = ChatterboxMultilingualTTS.from_pretrained(device=torch.device('cpu'))\n",
    "for name, module in model.__dict__.items():\n",
    "    if isinstance(module, torch.nn.Module):\n",
    "        module.to(\"cpu\")"
   ]
  },
  {
   "cell_type": "code",
   "execution_count": 7,
   "id": "10246321-81e0-4c9b-b3ae-80352630a417",
   "metadata": {},
   "outputs": [
    {
     "data": {
      "application/vnd.jupyter.widget-view+json": {
       "model_id": "64e473a1ed3946cea3d8e532436501b2",
       "version_major": 2,
       "version_minor": 0
      },
      "text/plain": [
       "Fetching 6 files:   0%|          | 0/6 [00:00<?, ?it/s]"
      ]
     },
     "metadata": {},
     "output_type": "display_data"
    },
    {
     "name": "stdout",
     "output_type": "stream",
     "text": [
      "loaded PerthNet (Implicit) at step 250,000\n"
     ]
    }
   ],
   "source": [
    "import torch\n",
    "from chatterbox.mtl_tts import ChatterboxMultilingualTTS\n",
    "import torchaudio as ta\n",
    "\n",
    "device = torch.device(\"cpu\")\n",
    "\n",
    "# 1) Загрузка модели\n",
    "model = ChatterboxMultilingualTTS.from_pretrained(device=device)\n",
    "\n",
    "# 2) Подготовка conditionals (по голосовому примеру)\n",
    "AUDIO_PROMPT_PATH = \"yc.wav\"\n",
    "model.prepare_conditionals(AUDIO_PROMPT_PATH, exaggeration=0.5)\n"
   ]
  },
  {
   "cell_type": "code",
   "execution_count": 17,
   "id": "2518040f-fc0e-4823-bd96-b5310f41fa39",
   "metadata": {},
   "outputs": [
    {
     "name": "stderr",
     "output_type": "stream",
     "text": [
      "Sampling:  20%|██████████████▏                                                      | 205/1000 [00:33<02:22,  5.59it/s]WARNING:chatterbox.models.t3.inference.alignment_stream_analyzer:forcing EOS token, long_tail=tensor(True), alignment_repetition=tensor(False), token_repetition=False\n",
      "Sampling:  20%|██████████████▏                                                      | 205/1000 [00:33<02:08,  6.18it/s]\n"
     ]
    }
   ],
   "source": [
    "\n",
    "text = \"Карты помогут найти нужное место даже без точного адреса и построят до него маршрут на общественном транспорте, автомобиле или пешком.\"\n",
    "\n",
    "wav_out = model.generate(\n",
    "    text=text,\n",
    "    language_id=\"ru\",\n",
    "    #exaggeration=0.5,\n",
    "    cfg_weight=1\n",
    ")\n",
    "\n",
    "torchaudio.save(\"result.wav\", wav_out, model.sr)"
   ]
  },
  {
   "cell_type": "code",
   "execution_count": 16,
   "id": "4ee78175-4cd8-4dc1-8e20-3f2b5058cefd",
   "metadata": {},
   "outputs": [
    {
     "name": "stdout",
     "output_type": "stream",
     "text": [
      "C:\\Users\\nick\\anaconda\\envs\\chatterbox\\Lib\\site-packages\\chatterbox\\mtl_tts.py\n"
     ]
    }
   ],
   "source": [
    "import chatterbox.mtl_tts\n",
    "print(chatterbox.mtl_tts.__file__)\n"
   ]
  },
  {
   "cell_type": "code",
   "execution_count": null,
   "id": "2080a5ad-76fe-4332-823f-8665170ed715",
   "metadata": {},
   "outputs": [],
   "source": []
  }
 ],
 "metadata": {
  "kernelspec": {
   "display_name": "Python 3 (ipykernel)",
   "language": "python",
   "name": "python3"
  },
  "language_info": {
   "codemirror_mode": {
    "name": "ipython",
    "version": 3
   },
   "file_extension": ".py",
   "mimetype": "text/x-python",
   "name": "python",
   "nbconvert_exporter": "python",
   "pygments_lexer": "ipython3",
   "version": "3.11.13"
  }
 },
 "nbformat": 4,
 "nbformat_minor": 5
}
