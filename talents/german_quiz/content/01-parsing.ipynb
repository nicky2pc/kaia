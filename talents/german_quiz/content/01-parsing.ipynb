{
 "cells": [
  {
   "cell_type": "code",
   "execution_count": 11,
   "id": "63b65a51-6bf4-4a1c-95ac-4edf0b16c6a6",
   "metadata": {},
   "outputs": [],
   "source": [
    "from yo_fluq import *\n",
    "from bs4 import BeautifulSoup\n",
    "import re\n",
    "from talents.german.quiz import content as c\n",
    "\n",
    "def parse_words(file):\n",
    "    with open(file, encoding=\"utf-8\") as f:\n",
    "        html = f.read()\n",
    "    \n",
    "    soup = BeautifulSoup(html, \"html.parser\")\n",
    "    \n",
    "    words = []\n",
    "    \n",
    "    for a in soup.find_all(\"a\", href=True):\n",
    "        href = a[\"href\"]\n",
    "        # Проверка, что это ссылка на dwds.de/wb/\n",
    "        if re.match(r\"^https?://www\\.dwds\\.de/wb/\", href):\n",
    "            for sup in a.find_all(\"sup\"):\n",
    "                sup.decompose()\n",
    "            word = a.get_text(strip=True)\n",
    "            words.append(word)\n",
    "\n",
    "    return words\n",
    "\n",
    "def parse_files():\n",
    "    words = []\n",
    "    seen_words = set()\n",
    "    for level in ['A1', 'A2', 'B1']:\n",
    "        for word in parse_words(f\"source_files/{level}.html\"):\n",
    "            if word in seen_words:\n",
    "                continue\n",
    "            seen_words.add(word)\n",
    "            words.append(c.Word(level, word))\n",
    "    return words\n",
    "\n",
    "words = parse_files()"
   ]
  },
  {
   "cell_type": "code",
   "execution_count": 12,
   "id": "ed6a6592-b55f-4aad-8c5e-ec541835712f",
   "metadata": {},
   "outputs": [
    {
     "data": {
      "application/vnd.jupyter.widget-view+json": {
       "model_id": "57286c56a4954d43a36bad8a111fc1c1",
       "version_major": 2,
       "version_minor": 0
      },
      "text/plain": [
       "  0%|          | 0/3289 [00:00<?, ?it/s]"
      ]
     },
     "metadata": {},
     "output_type": "display_data"
    }
   ],
   "source": [
    "from yo_fluq import *\n",
    "\n",
    "wik = c.Wiktionary('de')\n",
    "for word in Query.en(words).feed(fluq.with_progress_bar()):\n",
    "    word.wiktionary = wik.get(word.word)"
   ]
  },
  {
   "cell_type": "code",
   "execution_count": 13,
   "id": "49315a78-965f-4658-96d0-683da757d7b8",
   "metadata": {},
   "outputs": [],
   "source": [
    "\n",
    "for word in words:\n",
    "    if word.wiktionary is not None:\n",
    "        word.grammar = c.NounGrammar.parse_wiktionary(word.wiktionary)\n",
    "\n",
    "nouns = [w for w in words if w.grammar is not None and w.grammar.grammar_error() is None]"
   ]
  },
  {
   "cell_type": "code",
   "execution_count": 14,
   "id": "440f00d8-6458-4e75-8cbe-aa80c4599203",
   "metadata": {},
   "outputs": [],
   "source": [
    "comp = c.SimilarityComputer()\n",
    "table = comp.compute_table([w.word for w in nouns])"
   ]
  },
  {
   "cell_type": "code",
   "execution_count": 15,
   "id": "dd764b84-01fa-4906-9b9e-9e348d3587a7",
   "metadata": {},
   "outputs": [],
   "source": [
    "similarities = comp.table_to_list(table)"
   ]
  },
  {
   "cell_type": "code",
   "execution_count": 8,
   "id": "5b636381-2b8d-484c-8102-cc18244ce27c",
   "metadata": {},
   "outputs": [],
   "source": [
    "for w in nouns:\n",
    "    w.similar_words = tuple(similarities[w.word])"
   ]
  },
  {
   "cell_type": "code",
   "execution_count": 9,
   "id": "3d312666-3138-4bb4-8b52-bd25caea1b6c",
   "metadata": {},
   "outputs": [],
   "source": [
    "import os\n",
    "os.makedirs('temp', exist_ok=True)\n",
    "FileIO.write_pickle(nouns, 'temp/words.pkl')"
   ]
  },
  {
   "cell_type": "code",
   "execution_count": 10,
   "id": "11c934d5-c489-4032-982f-ded387f6e5ff",
   "metadata": {},
   "outputs": [
    {
     "data": {
      "text/plain": [
       "Word(level='B1', word='Übung', wiktionary=None, grammar=NounGrammar(genus=('f',), plural=('Übungen',), singular=('Übung',)), similar_words=('Training', 'Praktikant', 'Praktikum', 'Praktikantin', 'Lehrling'))"
      ]
     },
     "execution_count": 10,
     "metadata": {},
     "output_type": "execute_result"
    }
   ],
   "source": [
    "w"
   ]
  }
 ],
 "metadata": {
  "kernelspec": {
   "display_name": "Python 3 (ipykernel)",
   "language": "python",
   "name": "python3"
  },
  "language_info": {
   "codemirror_mode": {
    "name": "ipython",
    "version": 3
   },
   "file_extension": ".py",
   "mimetype": "text/x-python",
   "name": "python",
   "nbconvert_exporter": "python",
   "pygments_lexer": "ipython3",
   "version": "3.11.11"
  }
 },
 "nbformat": 4,
 "nbformat_minor": 5
}
