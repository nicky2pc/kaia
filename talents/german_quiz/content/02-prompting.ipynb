{
 "cells": [
  {
   "cell_type": "code",
   "execution_count": 1,
   "id": "f45b73fd-e7d1-4e09-83dd-21809144d477",
   "metadata": {},
   "outputs": [],
   "source": [
    "from yo_fluq import *\n",
    "\n",
    "words = FileIO.read_pickle('temp/words.pkl')"
   ]
  },
  {
   "cell_type": "code",
   "execution_count": 2,
   "id": "8da9a374-6ec4-4f3d-89a1-ae1da4167fd9",
   "metadata": {},
   "outputs": [],
   "source": [
    "from talents.german.quiz.content import QuestionBuilder\n",
    "\n",
    "questions = [QuestionBuilder(w) for w in words]"
   ]
  },
  {
   "cell_type": "code",
   "execution_count": 3,
   "id": "2622491e-93ef-467f-9342-ea0bd043c2c8",
   "metadata": {},
   "outputs": [
    {
     "name": "stdout",
     "output_type": "stream",
     "text": [
      "TOTAL 0\n",
      "0 records -> Start ConstantStep, 0/4 -> 1521 records\n",
      "1521 records -> Start ProbabilisticEqualRepresentationStep, 1/4 -> 10 records (Kilo: 1, Honig: 1, Datum: 1, Feuerwehr: 1, Doppelzimmer: 1, Religion: 1, Auto: 1, Zeichen: 1, Verkäuferin: 1, Heft: 1)\n",
      "10 records -> Start BrainBoxMappingStep, 2/4 -> 50 records\n",
      "50 records -> Start BrainBoxMappingStep, 3/4 -> 104 records\n",
      "TOTAL 104\n"
     ]
    }
   ],
   "source": [
    "from chara.narration import Journey, ConstantStep, ProbabilisticEqualRepresentationStep, FilterStep\n",
    "from brainbox import BrainBox\n",
    "\n",
    "api = BrainBox.Api('127.0.0.1:8090')\n",
    "\n",
    "journey = Journey('temp/journey', [\n",
    "    ConstantStep(questions),\n",
    "    ProbabilisticEqualRepresentationStep(10, lambda z: z.word.word, lambda z: z.is_success()),\n",
    "    QuestionBuilder.question_prompt(api),\n",
    "    QuestionBuilder.control_prompt(api),\n",
    "])\n",
    "\n",
    "journey.run(1)"
   ]
  },
  {
   "cell_type": "code",
   "execution_count": 4,
   "id": "aef43da3-a6cb-4a81-b338-0f5e48829001",
   "metadata": {},
   "outputs": [],
   "source": [
    "result = journey.read_flatten()"
   ]
  },
  {
   "cell_type": "code",
   "execution_count": 12,
   "id": "5c6e56ab-a6aa-4f42-9e99-179540de8423",
   "metadata": {},
   "outputs": [
    {
     "data": {
      "text/plain": [
       "[QuestionBuilder(word=Word(level='B1', word='Honig', wiktionary=None, grammar=NounGrammar(genus=('m',), plural=('Honige',), singular=('Honig',)), similar_words=('Zucker', 'Banane', 'Gewürz', 'Möhre', 'Semmel')), question='Was wird von Bienen aus Blüten gesammelt und ist süß?', control_answer='Honig', control_answer_index=0),\n",
       " QuestionBuilder(word=Word(level='B1', word='Honig', wiktionary=None, grammar=NounGrammar(genus=('m',), plural=('Honige',), singular=('Honig',)), similar_words=('Zucker', 'Banane', 'Gewürz', 'Möhre', 'Semmel')), question='Welches Produkt wird oft auf Brot gestrichen und kommt von Insekten?', control_answer='Honig', control_answer_index=0),\n",
       " QuestionBuilder(word=Word(level='B1', word='Honig', wiktionary=None, grammar=NounGrammar(genus=('m',), plural=('Honige',), singular=('Honig',)), similar_words=('Zucker', 'Banane', 'Gewürz', 'Möhre', 'Semmel')), question='Was wird in der Natur von Bienenvölkern hergestellt und ist goldfarben?', control_answer='Honig', control_answer_index=0),\n",
       " QuestionBuilder(word=Word(level='B1', word='Honig', wiktionary=None, grammar=NounGrammar(genus=('m',), plural=('Honige',), singular=('Honig',)), similar_words=('Zucker', 'Banane', 'Gewürz', 'Möhre', 'Semmel')), question='Welche Substanz wird von Bienen produziert und ist ein natürlicher Süßstoff?', control_answer='Honig', control_answer_index=0),\n",
       " QuestionBuilder(word=Word(level='A1', word='Datum', wiktionary=None, grammar=NounGrammar(genus=('n',), plural=('Daten',), singular=('Datum',)), similar_words=('Kalender', 'Terminkalender', 'Termin', 'Januar', 'Februar')), question='Welches Wort beschreibt den Tag und Monat eines Ereignisses?', control_answer='Datum', control_answer_index=0),\n",
       " QuestionBuilder(word=Word(level='A1', word='Datum', wiktionary=None, grammar=NounGrammar(genus=('n',), plural=('Daten',), singular=('Datum',)), similar_words=('Kalender', 'Terminkalender', 'Termin', 'Januar', 'Februar')), question='Was notiert man auf einer Einladung, um zu wissen, wann die Party stattfindet?', control_answer='Datum', control_answer_index=0),\n",
       " QuestionBuilder(word=Word(level='A1', word='Datum', wiktionary=None, grammar=NounGrammar(genus=('n',), plural=('Daten',), singular=('Datum',)), similar_words=('Kalender', 'Terminkalender', 'Termin', 'Januar', 'Februar')), question='Welches Wort wird verwendet, um das genaue Jahr, den Monat und den Tag eines historischen Ereignisses festzuhalten?', control_answer='Datum', control_answer_index=0),\n",
       " QuestionBuilder(word=Word(level='A1', word='Datum', wiktionary=None, grammar=NounGrammar(genus=('n',), plural=('Daten',), singular=('Datum',)), similar_words=('Kalender', 'Terminkalender', 'Termin', 'Januar', 'Februar')), question='Was steht in einem Briefkopf, um anzugeben, wann der Brief geschrieben wurde?', control_answer='Datum', control_answer_index=0),\n",
       " QuestionBuilder(word=Word(level='A1', word='Datum', wiktionary=None, grammar=NounGrammar(genus=('n',), plural=('Daten',), singular=('Datum',)), similar_words=('Kalender', 'Terminkalender', 'Termin', 'Januar', 'Februar')), question='Welches Wort gibt an, wann ein Dokument erstellt oder unterzeichnet wurde?', control_answer='Datum', control_answer_index=0),\n",
       " QuestionBuilder(word=Word(level='B1', word='Feuerwehr', wiktionary=None, grammar=NounGrammar(genus=('f',), plural=('Feuerwehren',), singular=('Feuerwehr',)), similar_words=('Feuer', 'Zünder', 'Feuerzeug', 'Ofen', 'Backofen')), question='Welche Organisation rettet Menschen aus brennenden Gebäuden?', control_answer='Feuerwehr', control_answer_index=0),\n",
       " QuestionBuilder(word=Word(level='B1', word='Feuerwehr', wiktionary=None, grammar=NounGrammar(genus=('f',), plural=('Feuerwehren',), singular=('Feuerwehr',)), similar_words=('Feuer', 'Zünder', 'Feuerzeug', 'Ofen', 'Backofen')), question='Welcher Dienst hilft bei Bränden und Unfällen auf der Straße?', control_answer='Feuerwehr', control_answer_index=0),\n",
       " QuestionBuilder(word=Word(level='B1', word='Feuerwehr', wiktionary=None, grammar=NounGrammar(genus=('f',), plural=('Feuerwehren',), singular=('Feuerwehr',)), similar_words=('Feuer', 'Zünder', 'Feuerzeug', 'Ofen', 'Backofen')), question='Welches Team kämpft gegen Flammen und rettet Leben?', control_answer='Feuerwehr', control_answer_index=0),\n",
       " QuestionBuilder(word=Word(level='A1', word='Doppelzimmer', wiktionary=None, grammar=NounGrammar(genus=('n',), plural=('Doppelzimmer',), singular=('Doppelzimmer',)), similar_words=('Schlafzimmer', 'Wohnzimmer', 'Zimmer', 'Einzelzimmer', 'Ehepaar')), question='Wo schlafen zwei Personen bequem in einem Raum mit getrennten Betten?', control_answer='Doppelzimmer', control_answer_index=0),\n",
       " QuestionBuilder(word=Word(level='A1', word='Doppelzimmer', wiktionary=None, grammar=NounGrammar(genus=('n',), plural=('Doppelzimmer',), singular=('Doppelzimmer',)), similar_words=('Schlafzimmer', 'Wohnzimmer', 'Zimmer', 'Einzelzimmer', 'Ehepaar')), question='Welcher Raum in einem Hotel hat zwei separate Schlafmöglichkeiten?', control_answer='Doppelzimmer', control_answer_index=0),\n",
       " QuestionBuilder(word=Word(level='A1', word='Doppelzimmer', wiktionary=None, grammar=NounGrammar(genus=('n',), plural=('Doppelzimmer',), singular=('Doppelzimmer',)), similar_words=('Schlafzimmer', 'Wohnzimmer', 'Zimmer', 'Einzelzimmer', 'Ehepaar')), question='Was ist der Name des Zimmers, das speziell für zwei Personen eingerichtet ist, die getrennt schlafen wollen?', control_answer='Doppelzimmer', control_answer_index=0),\n",
       " QuestionBuilder(word=Word(level='B1', word='Religion', wiktionary=None, grammar=NounGrammar(genus=('f',), plural=('Religionen',), singular=('Religion',)), similar_words=('Kirche', 'Kultur', 'Überzeugung', 'Musik', 'Tradition')), question='Welche Praxis beinhaltet den Glauben an übernatürliche Wesenheiten?', control_answer='Religion', control_answer_index=0),\n",
       " QuestionBuilder(word=Word(level='B1', word='Religion', wiktionary=None, grammar=NounGrammar(genus=('f',), plural=('Religionen',), singular=('Religion',)), similar_words=('Kirche', 'Kultur', 'Überzeugung', 'Musik', 'Tradition')), question='Was ist eine Sammlung von Lehren und Praktiken, die das Leben der Menschen beeinflussen?', control_answer='Religion', control_answer_index=0),\n",
       " QuestionBuilder(word=Word(level='A1', word='Auto', wiktionary=None, grammar=NounGrammar(genus=('n',), plural=('Autos',), singular=('Auto',)), similar_words=('Automat', 'Fahrzeug', 'Wagen', 'Kraftfahrzeug', 'Garage')), question='Welches Gerät hat vier Räder und wird für die Fortbewegung auf Straßen verwendet?', control_answer='Auto', control_answer_index=0),\n",
       " QuestionBuilder(word=Word(level='A1', word='Auto', wiktionary=None, grammar=NounGrammar(genus=('n',), plural=('Autos',), singular=('Auto',)), similar_words=('Automat', 'Fahrzeug', 'Wagen', 'Kraftfahrzeug', 'Garage')), question='Was ist ein Fahrzeug, das von Menschen gesteuert wird und Benzin oder Elektrizität als Energiequelle nutzt?', control_answer='Auto', control_answer_index=0),\n",
       " QuestionBuilder(word=Word(level='A1', word='Auto', wiktionary=None, grammar=NounGrammar(genus=('n',), plural=('Autos',), singular=('Auto',)), similar_words=('Automat', 'Fahrzeug', 'Wagen', 'Kraftfahrzeug', 'Garage')), question='Welches Transportmittel benötigt einen Führerschein, um legal betrieben zu werden?', control_answer='Auto', control_answer_index=0),\n",
       " QuestionBuilder(word=Word(level='A1', word='Auto', wiktionary=None, grammar=NounGrammar(genus=('n',), plural=('Autos',), singular=('Auto',)), similar_words=('Automat', 'Fahrzeug', 'Wagen', 'Kraftfahrzeug', 'Garage')), question='Was ist ein Mittel der Fortbewegung, das in einer Garage geparkt werden kann?', control_answer='Auto', control_answer_index=0),\n",
       " QuestionBuilder(word=Word(level='A1', word='Auto', wiktionary=None, grammar=NounGrammar(genus=('n',), plural=('Autos',), singular=('Auto',)), similar_words=('Automat', 'Fahrzeug', 'Wagen', 'Kraftfahrzeug', 'Garage')), question='Welches Gerät hat einen Motor und wird für die Beförderung von Personen und Gütern auf öffentlichen Straßen genutzt?', control_answer='Auto', control_answer_index=0),\n",
       " QuestionBuilder(word=Word(level='B1', word='Verkäuferin', wiktionary=None, grammar=NounGrammar(genus=('f',), plural=('Verkäuferinnen',), singular=('Verkäuferin',)), similar_words=('Verkäufer', 'Käuferin', 'Käufer', 'Händlerin', 'Händler')), question='Wer berät die Kunden bei der Auswahl von Kleidung und Accessoires?', control_answer='Verkäuferin', control_answer_index=0),\n",
       " QuestionBuilder(word=Word(level='A2', word='Heft', wiktionary=None, grammar=NounGrammar(genus=('n',), plural=('Hefte',), singular=('Heft',)), similar_words=('Stempel', 'Zeitschrift', 'Zeuge', 'Verlag', 'Kopierer')), question='Was benutzt man im Unterricht, um Notizen zu machen und aufzubewahren?', control_answer='Heft', control_answer_index=0),\n",
       " QuestionBuilder(word=Word(level='A2', word='Heft', wiktionary=None, grammar=NounGrammar(genus=('n',), plural=('Hefte',), singular=('Heft',)), similar_words=('Stempel', 'Zeitschrift', 'Zeuge', 'Verlag', 'Kopierer')), question='Welches Schulmaterial enthält leere Seiten für handschriftliche Aufzeichnungen?', control_answer='Heft', control_answer_index=0),\n",
       " QuestionBuilder(word=Word(level='A2', word='Heft', wiktionary=None, grammar=NounGrammar(genus=('n',), plural=('Hefte',), singular=('Heft',)), similar_words=('Stempel', 'Zeitschrift', 'Zeuge', 'Verlag', 'Kopierer')), question='Welches Gegenstand hat viele Blätter und wird zum Schreiben genutzt?', control_answer='Heft', control_answer_index=0)]"
      ]
     },
     "execution_count": 12,
     "metadata": {},
     "output_type": "execute_result"
    }
   ],
   "source": [
    "[r for r in result if r.is_success()]"
   ]
  }
 ],
 "metadata": {
  "kernelspec": {
   "display_name": "Python 3 (ipykernel)",
   "language": "python",
   "name": "python3"
  },
  "language_info": {
   "codemirror_mode": {
    "name": "ipython",
    "version": 3
   },
   "file_extension": ".py",
   "mimetype": "text/x-python",
   "name": "python",
   "nbconvert_exporter": "python",
   "pygments_lexer": "ipython3",
   "version": "3.11.11"
  }
 },
 "nbformat": 4,
 "nbformat_minor": 5
}
