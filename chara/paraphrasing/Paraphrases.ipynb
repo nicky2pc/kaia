{
 "cells": [
  {
   "cell_type": "markdown",
   "id": "8f6b63bb-695b-4397-a98b-a069a96f9b0f",
   "metadata": {},
   "source": [
    "This notebook demonstrates how to create paraphrases for Kaia. Essentially all the utterances Kaia emits can be paraphrased, and that greatly increase the \"feel alive\" factor.\n",
    "\n",
    "First, you need to extract the templates from your assistant. I will extract them from demo-version, and take three of them:\n",
    "* One without parameters\n",
    "* One with parameters, but without words in agreement with parameters\n",
    "* One with parameters and words in agreement"
   ]
  },
  {
   "cell_type": "code",
   "execution_count": 1,
   "id": "a246761e-b238-4e57-b53a-721b32be3ac8",
   "metadata": {},
   "outputs": [
    {
     "name": "stdout",
     "output_type": "stream",
     "text": [
      "Template: Exception has occured. The skill was interrupted, but assistant runs normally\n",
      "Template: The characters available are: {character_list}\n",
      "Template: You need to wait for the timer. {minutes} [minute|minutes] remaining\n"
     ]
    }
   ],
   "source": [
    "from kaia.app.kaia_driver_settings import AssistantFactory\n",
    "from foundation_kaia.misc import Loc\n",
    "\n",
    "factory = AssistantFactory(None)\n",
    "assistant = factory.create_assistant(None)\n",
    "all_templates = assistant.get_replies()\n",
    "\n",
    "templates = [None, None, None]\n",
    "for template in all_templates:\n",
    "    s = str(template)\n",
    "    if '{' in s:\n",
    "        if '[' in s:\n",
    "            templates[2] = template\n",
    "        else:\n",
    "            templates[1] = template\n",
    "    else:\n",
    "        templates[0] = template\n",
    "\n",
    "for template in templates:\n",
    "    print(template)"
   ]
  },
  {
   "cell_type": "markdown",
   "id": "f8a71caf-b0e6-4bf4-900a-ddc9e72d4e42",
   "metadata": {},
   "source": [
    "Then, you need to define your characters. \n",
    "\n",
    "*Note*: Currently, we have several `Character` classes across Avatar and Chara. At some point, I hope to reorganize the code and have only one Character class that defines character completely: the personality, the samples for voice clone, the samples for LoRA images, etc. But right now we have what we have."
   ]
  },
  {
   "cell_type": "code",
   "execution_count": 2,
   "id": "ab6bf88d-c4c5-44a2-bf58-8478a8d91849",
   "metadata": {},
   "outputs": [],
   "source": [
    "from avatar.daemon import Character\n",
    "\n",
    "mountain = Character(\n",
    "    \"Mountain\",\n",
    "    Character.Gender.Masculine,\n",
    "    \"Mountain is the spirit of Mountains. He is old and full of knowledge of the word. His replies are short and sharp\"\n",
    ")\n",
    "\n",
    "ocean = Character(\n",
    "    \"Ocean\",\n",
    "    Character.Gender.Feminine,\n",
    "    \"Ocean is the spirit of the Ocean. She is old, kind and enigmatic, and her replies are wordy and emotional\"\n",
    ")"
   ]
  },
  {
   "cell_type": "markdown",
   "id": "4159f5f7-eba6-4e31-98ac-21d2ec9a6204",
   "metadata": {},
   "source": [
    "You also need to define the users. Note, that if you plan to have several users, you will also need to set up SpeakerIdentification so Kaia would understand who is talking to the system. "
   ]
  },
  {
   "cell_type": "code",
   "execution_count": 3,
   "id": "49b8b550-78fe-487d-bac4-8733dfc5e1d7",
   "metadata": {},
   "outputs": [],
   "source": [
    "eagle = Character(\n",
    "    \"Eagle\",\n",
    "    Character.Gender.Masculine,\n",
    "    \"Eagle is an eagle. He likes spending time in the mountains, enjoying the view from above\"\n",
    ")\n",
    "\n",
    "salmon = Character(\n",
    "    \"Salmon\",\n",
    "    Character.Gender.Feminine,\n",
    "    \"Salmon is a salmon. She likes spending time in the deeps of the ocean, exploring the ancient wisdom\"\n",
    ")"
   ]
  },
  {
   "cell_type": "markdown",
   "id": "89d6035f-3233-4416-9f58-92e3fb8c898b",
   "metadata": {},
   "source": [
    "Now, you may also want to define the relationship between the characters and users:"
   ]
  },
  {
   "cell_type": "code",
   "execution_count": 4,
   "id": "9abcad0b-bc1d-483c-b48a-446d56a77d5f",
   "metadata": {},
   "outputs": [],
   "source": [
    "from chara.paraphrasing import ParaphraseCase\n",
    "from foundation_kaia.prompters import Referrer, Prompter\n",
    "\n",
    "o = Referrer[ParaphraseCase]()\n",
    "\n",
    "relationships = {\n",
    "    \"warm\": Prompter(f'{o.ref.user} and {o.ref.character} have a warm relationship'),\n",
    "    \"cold\": Prompter(f'{o.ref.user} and {o.ref.character} just met very recently and their relashionship is a bit cold')\n",
    "}\n",
    "\n",
    "user_to_character_to_relationships = {\n",
    "    'Eagle': {\n",
    "        'Mountain': 'warm',\n",
    "        'Ocean': 'cold'\n",
    "    },\n",
    "    'Salmon': {\n",
    "        'Mountain': 'cold',\n",
    "        'Ocean': 'warm'\n",
    "    }\n",
    "}"
   ]
  },
  {
   "cell_type": "markdown",
   "id": "4b8a82c8-8ec0-4020-8185-89ac5a148fee",
   "metadata": {},
   "source": [
    "That is enough to build _cases_: all the tasks for paraphrasing. Each case contains template, user, character and their relationship. \n",
    "\n",
    "\n",
    "If you already have some generated paraphrases, you may do _complimentary generation_: generate the paraphrasing of the templates you just recently added to Kaia, as well as some more paraphrases for templates that were heavily in use. In this case, set the variables `existing_paraphrases` and `paraphrases_feedback` to the contents of your 'paraphrases.pkl` and `paraphrases-feedback.json` files respectively."
   ]
  },
  {
   "cell_type": "code",
   "execution_count": 5,
   "id": "5884b33c-5ee1-429a-91d5-74d0e1cee39b",
   "metadata": {},
   "outputs": [
    {
     "data": {
      "text/plain": [
       "12"
      ]
     },
     "execution_count": 5,
     "metadata": {},
     "output_type": "execute_result"
    }
   ],
   "source": [
    "from chara.paraphrasing import ParaphraseSetup\n",
    "\n",
    "\n",
    "existing_paraphrases = []\n",
    "paraphrases_feedback = {}\n",
    "setup = ParaphraseSetup(templates, [salmon, eagle], [ocean, mountain], user_to_character_to_relationships, relationships)\n",
    "source_cases = setup.create_new_cases()\n",
    "prehistory = setup.create_prehistoric_cases(existing_paraphrases, paraphrases_feedback)\n",
    "len(source_cases)"
   ]
  },
  {
   "cell_type": "code",
   "execution_count": 6,
   "id": "21953424-068b-4954-8f2a-5a4cc404d9da",
   "metadata": {},
   "outputs": [
    {
     "name": "stdout",
     "output_type": "stream",
     "text": [
      "You work on helping with the deep, artistic personalization of kitchen voice assistant. The core feature of this assistant is stylization for visual novels: assistant acts like a character, and interactions with the user need to follow the personaliries of the character and the user, as well as their current relationship.\n",
      "\n",
      "The character's name is Mountain. Mountain is the spirit of Mountains. He is old and full of knowledge of the word. His replies are short and sharp\n",
      "\n",
      "The user's name is Eagle. Eagle is an eagle. He likes spending time in the mountains, enjoying the view from above\n",
      "\n",
      "Eagle and Mountain have a warm relationship\n",
      "\n",
      "You're currently working on one of the assistant replies.\n",
      "\n",
      "# Context\n",
      "\n",
      "The circumstances are following: Eagle is asking what is the next step in the recipe, but currently Eagle needs to wait for the timer to finish the previous step, and Mountain informs him about this fact.\n",
      "\n",
      "# The Format\n",
      "\n",
      "The current, default answers are:\n",
      "\n",
      "* You need to wait for the timer. {minutes/minute} remaining\n",
      "\n",
      "Where:\n",
      "\n",
      "* {minutes/minute}. Variable `minutes`: the duration of the set timer, in minutes. Then, word `minute` is added in a grammatically correct form.\n",
      "\n",
      "All of these variables must be included in the paraphrase in the meaningful places, exactly in the way they are. Do not use new variables, only use these from the list.\n",
      "\n",
      "The variables can turn into anything. The paraphrase should not assume the values, and must remain correct for any possible value of the variable.\n",
      "\n",
      "You now need to paraphrase the default answers so that they match character's and user's personalities and their relationship.\n",
      "\n",
      "You should not extend or shorten the lines too much.\n",
      "\n",
      "You should write 10 paraphrases as a bullet point list.\n"
     ]
    }
   ],
   "source": [
    "prompt_template = ParaphraseCase.get_paraphrase_template()\n",
    "print(prompt_template(source_cases[-1]))"
   ]
  },
  {
   "cell_type": "markdown",
   "id": "bcb79abe-3060-41bb-8038-da9ba89a9d8e",
   "metadata": {},
   "source": [
    "Now, we will need a functioning BrainBox api:"
   ]
  },
  {
   "cell_type": "code",
   "execution_count": 7,
   "id": "a8ad472f-6c0e-4009-895f-a54ab5f487be",
   "metadata": {},
   "outputs": [],
   "source": [
    "from brainbox import BrainBox\n",
    "\n",
    "api = BrainBox.Api('127.0.0.1:8090')"
   ]
  },
  {
   "cell_type": "markdown",
   "id": "1404b2cb-cac5-4762-b6c3-8f5797acba23",
   "metadata": {},
   "source": [
    "And defined pipeline for paraphrasing, where:\n",
    "1. `initial_step` just contains all the cases\n",
    "2. `choosing_step` selects the cases that are currently least represented\n",
    "3. `mapping_step` runs the LLM with the according prompts\n",
    "4. `parsing_step` tries to restore the template from the LLM answer: some outputs will fails as LLM sometimes doesn't obey the restrictions regarding variables.\n",
    "\n",
    "As running LLM takes quite some time, I will set the amount of cases in each iteration to 1. You may set as many as you are comfortable with."
   ]
  },
  {
   "cell_type": "code",
   "execution_count": 8,
   "id": "81184e5a-e03d-4a31-aebc-cae4d88cf88a",
   "metadata": {},
   "outputs": [
    {
     "name": "stdout",
     "output_type": "stream",
     "text": [
      "TOTAL 0\n",
      "0 records -> Start ConstantStep, 0/4 -> 12 records\n",
      "12 records -> Start SortedRepresentationStep, 1/4 -> 1 records\n",
      "1 records -> Start BrainBoxMappingStep, 2/4 -> 1 records\n",
      "1 records -> Start LLMParsingStep, 3/4 -> 1 records\n",
      "TOTAL 1\n"
     ]
    }
   ],
   "source": [
    "from brainbox.flow import *\n",
    "from chara.paraphrasing import LLMParsingStep\n",
    "from pathlib import Path\n",
    "\n",
    "initial_step = ConstantStep(source_cases)\n",
    "choosing_step = ParaphraseSetup.create_representation_step(1)\n",
    "prompt = ParaphraseCase.get_paraphrase_template()\n",
    "mapping_step =  BrainBoxMappingStep(\n",
    "    api,\n",
    "    BrainBoxMapping(\n",
    "        PromptBasedObjectConverter(\n",
    "            prompt,\n",
    "            'mistral-small',\n",
    "        ),\n",
    "        SimpleApplicator('answer'),\n",
    "    )\n",
    ")\n",
    "parsing_step = LLMParsingStep()\n",
    "temp_path = Path('temp/paraphrases')\n",
    "\n",
    "flow = Flow(\n",
    "    temp_path,\n",
    "    [\n",
    "        initial_step,\n",
    "        choosing_step,\n",
    "        mapping_step,\n",
    "        parsing_step\n",
    "    ],\n",
    "    prehistory = prehistory\n",
    ")\n",
    "flow.reset()\n",
    "flow.run(1)"
   ]
  },
  {
   "cell_type": "markdown",
   "id": "514c1e93-48b7-479f-bb80-e73a96255c14",
   "metadata": {},
   "source": [
    "Great! Now export the paraphrases:"
   ]
  },
  {
   "cell_type": "code",
   "execution_count": 11,
   "id": "a27e3848-f173-4706-b8ca-fb2e546d1a43",
   "metadata": {},
   "outputs": [],
   "source": [
    "output = Path('temp/paraphrases.pkl')\n",
    "ParaphraseSetup.export(temp_path, output)"
   ]
  },
  {
   "cell_type": "markdown",
   "id": "7abaf7d0-d5c8-422c-a098-30792a5b6679",
   "metadata": {},
   "source": [
    "You may read the records from the file:"
   ]
  },
  {
   "cell_type": "code",
   "execution_count": 16,
   "id": "72d93e42-28dd-4b54-8644-1e2298fe8bd2",
   "metadata": {},
   "outputs": [
    {
     "name": "stdout",
     "output_type": "stream",
     "text": [
      "Template: *Ah, dear Salmon, it seems our conversation has hit a snag, but fear not, for I am still here, ready to guide you through the depths of wisdom.*\n"
     ]
    }
   ],
   "source": [
    "from yo_fluq import FileIO\n",
    "\n",
    "records = FileIO.read_pickle(output)\n",
    "print(records[0].template)"
   ]
  }
 ],
 "metadata": {
  "kernelspec": {
   "display_name": "Python 3 (ipykernel)",
   "language": "python",
   "name": "python3"
  },
  "language_info": {
   "codemirror_mode": {
    "name": "ipython",
    "version": 3
   },
   "file_extension": ".py",
   "mimetype": "text/x-python",
   "name": "python",
   "nbconvert_exporter": "python",
   "pygments_lexer": "ipython3",
   "version": "3.12.11"
  }
 },
 "nbformat": 4,
 "nbformat_minor": 5
}
