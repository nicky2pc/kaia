{
 "cells": [
  {
   "cell_type": "markdown",
   "id": "d612251b-80c3-4b65-ac0a-27902d1f90e1",
   "metadata": {},
   "source": [
    "# Building the upsampling dataset\n",
    "\n",
    "To ensure smooth training, we need the text that represents well all the phonemes, including the rare ones. So, we need some efforts to generate the text with this kind of representation."
   ]
  },
  {
   "cell_type": "markdown",
   "id": "01e2838c-db2e-4d0e-b98d-5b5ff007297c",
   "metadata": {},
   "source": [
    "One of the processing steps is to convert sentences to transcriptions with ESpeak. Let's ensure BrainBox is running and the decider is installed."
   ]
  },
  {
   "cell_type": "code",
   "execution_count": 1,
   "id": "911197b7-8c96-4488-a0a0-8daf4e69b481",
   "metadata": {
    "execution": {
     "iopub.execute_input": "2025-05-01T08:15:50.381967Z",
     "iopub.status.busy": "2025-05-01T08:15:50.381545Z",
     "iopub.status.idle": "2025-05-01T08:15:51.417898Z",
     "shell.execute_reply": "2025-05-01T08:15:51.416907Z"
    }
   },
   "outputs": [],
   "source": [
    "from brainbox import BrainBox\n",
    "from brainbox.deciders import EspeakPhonemizer\n",
    "\n",
    "api = BrainBox.Api('127.0.0.1:8090')\n",
    "api.controller_api.install_if_not_installed(EspeakPhonemizer)"
   ]
  },
  {
   "cell_type": "markdown",
   "id": "0f71f8df-f26f-4f11-9f21-b26d6a332e66",
   "metadata": {},
   "source": [
    "To start, we need a large amount of texts in the language of choice. The texts should not be scientific: Wikipedia and alike doesn't work, because it contains a lot of words with custom pronounciation that the model is not guaranteed to grasp. Newspapers are OK, the best is the novels with local character's names and places. \n",
    "\n",
    "In this demo we use small sample from https://huggingface.co/datasets/NickyNicky/global-news-dataset . "
   ]
  },
  {
   "cell_type": "code",
   "execution_count": 2,
   "id": "fee3dc44-0e5e-40cc-ba85-1a4dcf5d9043",
   "metadata": {
    "execution": {
     "iopub.execute_input": "2025-05-01T08:15:51.424175Z",
     "iopub.status.busy": "2025-05-01T08:15:51.423022Z",
     "iopub.status.idle": "2025-05-01T08:15:51.436471Z",
     "shell.execute_reply": "2025-05-01T08:15:51.436295Z"
    }
   },
   "outputs": [
    {
     "data": {
      "text/plain": [
       "'UN Secretary-General Antonio Guterres urged the world Monday to \"stop the madness\" of climate change as he visited Himalayan regions struggling from rapidly melting glaciers to witness the devastating impact of the phenomenon. \"The rooftops of the world are caving in,\" Guterres said on a visit to the Everest region in mountainous Nepal, adding that the country had lost nearly a third of its ice in'"
      ]
     },
     "execution_count": 2,
     "metadata": {},
     "output_type": "execute_result"
    }
   ],
   "source": [
    "from yo_fluq import FileIO\n",
    "\n",
    "raw_text = FileIO.read_json('../files/sample.json')\n",
    "raw_text[0][:400]"
   ]
  },
  {
   "cell_type": "markdown",
   "id": "5609a72c-a034-4861-9185-71945053ab04",
   "metadata": {},
   "source": [
    "First class that we need in `Language`. This class describes the symbols that can occure within the words and sentences, typical typographic transformations that happen in different languages (e.g. `\"` can be `»` in German and `“` in English), etc."
   ]
  },
  {
   "cell_type": "markdown",
   "id": "25e5a285-d241-41c4-8533-3350e8bdeebf",
   "metadata": {},
   "source": [
    "We create `UpsamplingDatasetBuilder`, the class that contains all the requied functionality. It creates a temporary files in the process, if you care where they are, provide the path in ctor. Also, you need to have BrainBox running with `EspeakPhonemizer` installed."
   ]
  },
  {
   "cell_type": "code",
   "execution_count": 3,
   "id": "0c4f69c5-12c2-4821-9fb0-4929f0a7b4a9",
   "metadata": {
    "execution": {
     "iopub.execute_input": "2025-05-01T08:15:51.440010Z",
     "iopub.status.busy": "2025-05-01T08:15:51.439652Z",
     "iopub.status.idle": "2025-05-01T08:15:51.810078Z",
     "shell.execute_reply": "2025-05-01T08:15:51.809844Z"
    }
   },
   "outputs": [],
   "source": [
    "from pathlib import Path\n",
    "from chara.voice_clone.sentences import *\n",
    "from chara.tools import Language\n",
    "\n",
    "folder = Path('temp/builder')\n",
    "language = Language.English()\n",
    "builder = UpsamplingDatasetBuilder('demo', language, folder)\n",
    "builder.locations.reset()"
   ]
  },
  {
   "cell_type": "markdown",
   "id": "e0ae05e5-d677-408c-816e-dc5ae24e3b9c",
   "metadata": {},
   "source": [
    "## Filtering\n",
    "\n",
    "The first stage in the process is to filter out the bad sentences from the source text. There are a lot of reasons the sentence may be considered \"bad\", and the main ones are listed here:"
   ]
  },
  {
   "cell_type": "code",
   "execution_count": 4,
   "id": "31d56ef3-2d50-41ca-bed8-555500b94882",
   "metadata": {
    "execution": {
     "iopub.execute_input": "2025-05-01T08:15:51.811583Z",
     "iopub.status.busy": "2025-05-01T08:15:51.811396Z",
     "iopub.status.idle": "2025-05-01T08:15:51.813306Z",
     "shell.execute_reply": "2025-05-01T08:15:51.813018Z"
    }
   },
   "outputs": [],
   "source": [
    "builder.filters = [\n",
    "    BadSymbolsFilter.from_language(language),\n",
    "    LengthFilter(80,100),\n",
    "    TooMuchCapitalLettersFilter(4),\n",
    "    NoAbbreviationsFilter.from_language(language),\n",
    "]"
   ]
  },
  {
   "cell_type": "markdown",
   "id": "67fe2dbe-8db3-4013-9ea6-f488796abae7",
   "metadata": {},
   "source": [
    "Length from 80 to 100 is, in my opinion, optimal: sentences <80 won't allow the voice to experience all the variations, while too long sentences often guide the upsampling to hallucinations.\n",
    "\n",
    "TooMuchCapitalLetters are important to remove the sentences with lots of names: these names are often foreign and thus do not really reflect the pronounciation of the language, so you don't really want to train your model on them (for modifications required for German language, see the end of the notebook).\n",
    "\n",
    "An additional filter you may want to employ is a filter that only keeps the words from certain disctionary. E.g. a Vosk dictionary: we are going to push every voiceover in upsampling through the voice recognition with VOSK, so the sentences with the words outside of the dictionary don't really have chances to be recognized. To do the filtration:"
   ]
  },
  {
   "cell_type": "code",
   "execution_count": 5,
   "id": "1af1a323-dbfa-424e-9d3e-1bf9ef1e18e5",
   "metadata": {
    "execution": {
     "iopub.execute_input": "2025-05-01T08:15:51.814365Z",
     "iopub.status.busy": "2025-05-01T08:15:51.814261Z",
     "iopub.status.idle": "2025-05-01T08:15:52.298985Z",
     "shell.execute_reply": "2025-05-01T08:15:52.298642Z"
    }
   },
   "outputs": [],
   "source": [
    "from brainbox.framework import Loc\n",
    "\n",
    "\n",
    "vosk_dictionary_path = Path('temp/vosk_dictionary.json')\n",
    "if not vosk_dictionary_path.is_file():\n",
    "    dict_file = Loc.resources_folder/'Vosk/models/en/graph/words.txt'\n",
    "    words = DictionaryFilter.process_vosk_dictionary(dict_file, language.standardizer)\n",
    "    FileIO.write_json(list(words),vosk_dictionary_path)\n",
    "\n",
    "builder.filters.append(DictionaryFilter(language.standardizer, FileIO.read_json(vosk_dictionary_path)))"
   ]
  },
  {
   "cell_type": "markdown",
   "id": "3870d5be-d129-46e1-943b-b19fcb359550",
   "metadata": {},
   "source": [
    "Now we can filter the dataset and store the result of this stage."
   ]
  },
  {
   "cell_type": "code",
   "execution_count": 6,
   "id": "05168971-badb-4a65-b469-79d1e424edb9",
   "metadata": {
    "execution": {
     "iopub.execute_input": "2025-05-01T08:15:52.300345Z",
     "iopub.status.busy": "2025-05-01T08:15:52.300263Z",
     "iopub.status.idle": "2025-05-01T08:15:52.319806Z",
     "shell.execute_reply": "2025-05-01T08:15:52.319630Z"
    }
   },
   "outputs": [
    {
     "data": {
      "application/vnd.jupyter.widget-view+json": {
       "model_id": "9e10f7293c054ec389e681b3f58691b3",
       "version_major": 2,
       "version_minor": 0
      },
      "text/plain": [
       "  0%|          | 0/50 [00:00<?, ?it/s]"
      ]
     },
     "metadata": {},
     "output_type": "display_data"
    },
    {
     "data": {
      "text/plain": [
       "[\"In the first phase of climate change's effects, melting glaciers can trigger destructive floods.\",\n",
       " 'The Northeast has a key place in the hydel power push of successive governments at the Centre.',\n",
       " 'He said his government is sending humanitarian assistance for the besieged residents of Gaza.']"
      ]
     },
     "execution_count": 6,
     "metadata": {},
     "output_type": "execute_result"
    }
   ],
   "source": [
    "builder.create_source_text(raw_text)\n",
    "source = FileIO.read_json(builder.locations.source)\n",
    "assert len(source)>10\n",
    "source[:3]"
   ]
  },
  {
   "cell_type": "markdown",
   "id": "5114dc6b-2c17-4822-bfa5-ae8c3078b71d",
   "metadata": {},
   "source": [
    "## Phonemization\n",
    "\n",
    "Next, we need to convert all the sentences to phonemes. That is done with the help of BrainBox"
   ]
  },
  {
   "cell_type": "code",
   "execution_count": 7,
   "id": "0b8a11dd-cea8-40f3-8367-40bd2c8ecb14",
   "metadata": {
    "execution": {
     "iopub.execute_input": "2025-05-01T08:15:52.320756Z",
     "iopub.status.busy": "2025-05-01T08:15:52.320687Z",
     "iopub.status.idle": "2025-05-01T08:16:04.277059Z",
     "shell.execute_reply": "2025-05-01T08:16:04.276743Z"
    }
   },
   "outputs": [
    {
     "name": "stdout",
     "output_type": "stream",
     "text": [
      "[{'error': None,\n",
      "  'id': 'id_cfe809decf1f4b7f934b17dcda8511dd',\n",
      "  'result': [[['ɪ', 'n', 'ð', 'ə'],\n",
      "              ['f', 'ɜː', 's', 't'],\n",
      "              ['f', 'eɪ', 'z'],\n",
      "              ['ʌ', 'v'],\n",
      "              ['k', 'l', 'aɪ', 'm', 'ə', 't'],\n",
      "              ['tʃ', 'eɪ', 'n', 'dʒ', 'ᵻ', 'z'],\n",
      "         \n"
     ]
    }
   ],
   "source": [
    "import pprint\n",
    "\n",
    "command = builder.create_phonemize_command()\n",
    "phonemization = command.execute(api)\n",
    "print(pprint.pformat(phonemization[:1])[:300])"
   ]
  },
  {
   "cell_type": "markdown",
   "id": "f5375f5e-286f-46c6-bb56-8095c390a322",
   "metadata": {},
   "source": [
    "At this point, for a new language, we can also view all the phonemes with their frequency. This is a good way to distinguish the phonemes that are native to this language and the phonemes that came from the foreign words, like e.g. \"Chance\" is pronounced in German with nasal a). "
   ]
  },
  {
   "cell_type": "code",
   "execution_count": 8,
   "id": "e5e6824a-6132-4c1f-b446-487e5d964510",
   "metadata": {
    "execution": {
     "iopub.execute_input": "2025-05-01T08:16:04.280718Z",
     "iopub.status.busy": "2025-05-01T08:16:04.280411Z",
     "iopub.status.idle": "2025-05-01T08:16:04.295214Z",
     "shell.execute_reply": "2025-05-01T08:16:04.295035Z"
    }
   },
   "outputs": [
    {
     "data": {
      "text/html": [
       "<div>\n",
       "<style scoped>\n",
       "    .dataframe tbody tr th:only-of-type {\n",
       "        vertical-align: middle;\n",
       "    }\n",
       "\n",
       "    .dataframe tbody tr th {\n",
       "        vertical-align: top;\n",
       "    }\n",
       "\n",
       "    .dataframe thead th {\n",
       "        text-align: right;\n",
       "    }\n",
       "</style>\n",
       "<table border=\"1\" class=\"dataframe\">\n",
       "  <thead>\n",
       "    <tr style=\"text-align: right;\">\n",
       "      <th></th>\n",
       "      <th>phoneme</th>\n",
       "      <th>count</th>\n",
       "      <th>0</th>\n",
       "      <th>1</th>\n",
       "      <th>2</th>\n",
       "      <th>3</th>\n",
       "      <th>4</th>\n",
       "    </tr>\n",
       "  </thead>\n",
       "  <tbody>\n",
       "    <tr>\n",
       "      <th>0</th>\n",
       "      <td>t</td>\n",
       "      <td>74</td>\n",
       "      <td>(traffic, t ɹ æ f ɪ k)</td>\n",
       "      <td>(set, s ɛ t)</td>\n",
       "      <td>(bankruptcy, b æ ŋ k ɹ ʌ p t s i )</td>\n",
       "      <td>(rat, ɹ æ t)</td>\n",
       "      <td>(trend, t ɹ ɛ n d)</td>\n",
       "    </tr>\n",
       "    <tr>\n",
       "      <th>1</th>\n",
       "      <td>s</td>\n",
       "      <td>72</td>\n",
       "      <td>(say, s eɪ)</td>\n",
       "      <td>(sirens, s aɪ ɹ ə n z)</td>\n",
       "      <td>(set, s ɛ t)</td>\n",
       "      <td>(bankruptcy, b æ ŋ k ɹ ʌ p t s i )</td>\n",
       "      <td>(bust, b ʌ s t)</td>\n",
       "    </tr>\n",
       "    <tr>\n",
       "      <th>2</th>\n",
       "      <td>n</td>\n",
       "      <td>64</td>\n",
       "      <td>(sirens, s aɪ ɹ ə n z)</td>\n",
       "      <td>(Zealand, z iː l ə n d )</td>\n",
       "      <td>(in, ɪ n)</td>\n",
       "      <td>(trend, t ɹ ɛ n d)</td>\n",
       "      <td>(benches, b ɛ n tʃ ᵻ z)</td>\n",
       "    </tr>\n",
       "    <tr>\n",
       "      <th>3</th>\n",
       "      <td>ɪ</td>\n",
       "      <td>57</td>\n",
       "      <td>(traffic, t ɹ æ f ɪ k)</td>\n",
       "      <td>(in, ɪ n)</td>\n",
       "      <td>(being, b iː ɪ ŋ)</td>\n",
       "      <td>(economy, ɪ k ɑː n ə m i)</td>\n",
       "      <td>(smuggling, s m ʌ ɡ l ɪ ŋ)</td>\n",
       "    </tr>\n",
       "    <tr>\n",
       "      <th>4</th>\n",
       "      <td>ɹ</td>\n",
       "      <td>46</td>\n",
       "      <td>(sirens, s aɪ ɹ ə n z)</td>\n",
       "      <td>(traffic, t ɹ æ f ɪ k)</td>\n",
       "      <td>(bankruptcy, b æ ŋ k ɹ ʌ p t s i )</td>\n",
       "      <td>(re, ɹ iː)</td>\n",
       "      <td>(rat, ɹ æ t)</td>\n",
       "    </tr>\n",
       "  </tbody>\n",
       "</table>\n",
       "</div>"
      ],
      "text/plain": [
       "  phoneme  count                       0                         1  \\\n",
       "0       t     74  (traffic, t ɹ æ f ɪ k)              (set, s ɛ t)   \n",
       "1       s     72             (say, s eɪ)    (sirens, s aɪ ɹ ə n z)   \n",
       "2       n     64  (sirens, s aɪ ɹ ə n z)  (Zealand, z iː l ə n d )   \n",
       "3       ɪ     57  (traffic, t ɹ æ f ɪ k)                 (in, ɪ n)   \n",
       "4       ɹ     46  (sirens, s aɪ ɹ ə n z)    (traffic, t ɹ æ f ɪ k)   \n",
       "\n",
       "                                    2                                   3  \\\n",
       "0  (bankruptcy, b æ ŋ k ɹ ʌ p t s i )                        (rat, ɹ æ t)   \n",
       "1                        (set, s ɛ t)  (bankruptcy, b æ ŋ k ɹ ʌ p t s i )   \n",
       "2                           (in, ɪ n)                  (trend, t ɹ ɛ n d)   \n",
       "3                   (being, b iː ɪ ŋ)           (economy, ɪ k ɑː n ə m i)   \n",
       "4  (bankruptcy, b æ ŋ k ɹ ʌ p t s i )                          (re, ɹ iː)   \n",
       "\n",
       "                            4  \n",
       "0          (trend, t ɹ ɛ n d)  \n",
       "1             (bust, b ʌ s t)  \n",
       "2     (benches, b ɛ n tʃ ᵻ z)  \n",
       "3  (smuggling, s m ʌ ɡ l ɪ ŋ)  \n",
       "4                (rat, ɹ æ t)  "
      ]
     },
     "execution_count": 8,
     "metadata": {},
     "output_type": "execute_result"
    }
   ],
   "source": [
    "data = builder.preprocess_phonemization_samples_data()\n",
    "builder.create_phonemization_samples(data).head()"
   ]
  },
  {
   "cell_type": "markdown",
   "id": "8c70463e-686c-49e8-bf54-d1e98739ae4f",
   "metadata": {},
   "source": [
    "Then, the phonemes are postprocessed, so for each sentence it is indicated how many time each phoneme has occured in this sentence"
   ]
  },
  {
   "cell_type": "code",
   "execution_count": 9,
   "id": "31429ae7-96b7-4306-9647-0a87b905e63f",
   "metadata": {
    "execution": {
     "iopub.execute_input": "2025-05-01T08:16:04.296292Z",
     "iopub.status.busy": "2025-05-01T08:16:04.296191Z",
     "iopub.status.idle": "2025-05-01T08:16:04.299611Z",
     "shell.execute_reply": "2025-05-01T08:16:04.299445Z"
    }
   },
   "outputs": [
    {
     "data": {
      "text/plain": [
       "{'sentence': \"In the first phase of climate change's effects, melting glaciers can trigger destructive floods.\",\n",
       " 'stats': {'ɪ': 5,\n",
       "  'n': 3,\n",
       "  'ð': 1,\n",
       "  'ə': 2,\n",
       "  'f': 4,\n",
       "  'ɜː': 1,\n",
       "  's': 3,\n",
       "  't': 7,\n",
       "  'eɪ': 3,\n",
       "  'z': 4,\n",
       "  'ʌ': 3,\n",
       "  'v': 2,\n",
       "  'k': 4,\n",
       "  'l': 4,\n",
       "  'aɪ': 1,\n",
       "  'm': 2,\n",
       "  'tʃ': 1,\n",
       "  'dʒ': 1,\n",
       "  'ᵻ': 2,\n",
       "  'ɛ': 2,\n",
       "  'ŋ': 1,\n",
       "  'ɡ': 2,\n",
       "  'ʃ': 1,\n",
       "  'ɚ': 2,\n",
       "  'æ': 1,\n",
       "  'ɹ': 2,\n",
       "  'd': 2}}"
      ]
     },
     "execution_count": 9,
     "metadata": {},
     "output_type": "execute_result"
    }
   ],
   "source": [
    "builder.postprocess_phonemization()\n",
    "phonemization = FileIO.read_json(builder.locations.phonemized_dataset)\n",
    "assert len(phonemization)==len(source)\n",
    "phonemization[list(phonemization)[0]]"
   ]
  },
  {
   "cell_type": "markdown",
   "id": "02778cbb-6795-442c-b49f-c54ac59b8d1d",
   "metadata": {},
   "source": [
    "## Algorithm"
   ]
  },
  {
   "cell_type": "markdown",
   "id": "92c1c0cd-c4cb-4c26-b7f6-821a736d5aad",
   "metadata": {},
   "source": [
    "Now, we can run the algorithm that will select the sentences."
   ]
  },
  {
   "cell_type": "code",
   "execution_count": 10,
   "id": "f67d9542-4dca-4387-b716-8855b4d4b40f",
   "metadata": {
    "execution": {
     "iopub.execute_input": "2025-05-01T08:16:04.300574Z",
     "iopub.status.busy": "2025-05-01T08:16:04.300481Z",
     "iopub.status.idle": "2025-05-01T08:16:04.348230Z",
     "shell.execute_reply": "2025-05-01T08:16:04.348026Z"
    }
   },
   "outputs": [
    {
     "name": "stdout",
     "output_type": "stream",
     "text": [
      "0 id_136d5e5f0c8d4ed0dc3e3fca: The reasons for launching the program specifically in New Zealand and the Philippines are unclear.\n",
      "1 id_6e29915dc6ddca03f6879688: Then they wait on another set of outdoor benches after clearing the security check.\n",
      "2 id_2f30c620c7a92c22a00e9e0e: It is the same stocks that we are holding and buying more of, which I have spoken about many times.\n",
      "3 id_f850996d585db7bf3eb16aad: Observers say talks are the only way forward because both nuclear-armed countries have much to lose.\n",
      "4 id_abf43a3c0468c3e40c24c8d8: Notably, it is the first time that Germany has signed such a bilateral agreement.\n",
      "5 id_61d87b46dbd1c2c6b44d6ede: One woman was missing after being engulfed by a landslide triggered by the quake, he said.\n",
      "6 id_452d045f715323354ca86174: Also, valuation-wise, it is amazingly cheap compared to most of the other banking stocks.\n",
      "7 id_f6256fca3f8118c281d8d479: Gymnastics gave her superior body awareness, while competing in triathlons built up her endurance.\n",
      "8 id_f047e0a2340cfbc561178df1: The latest results, which Duggan says come as a surprise, point to a reversal of this trend.\n",
      "9 id_0bf4e962afabd9137bb36893: Violent torrents struck Sikkim state on Wednesday after a high-altitude glacial lake suddenly burst.\n",
      "10 id_068b6b30897f9588226a5cee: In the United States, women cook about two more meals per week on average, than men.\n",
      "11 id_69cade5b4345bf8b53d4c514: The Peruvian foreign ministry said two nationals were missing, without offering any further details.\n",
      "12 id_cad681cf19d8f5212a5c0516: Focusing on two small countries first allows X to test out the system before expanding globally.\n",
      "13 id_11f34b47aa73412be4216d99: As with many gig economy workers, it was to cover costs while he was between jobs for two months.\n",
      "14 id_0c813775ad1233fde1fdeb94: The Police control room in Jaipur said there was no information yet about any loss.\n",
      "15 id_22f0bcb50e8f02e963b80b3d: Snow and ice samples at the summit had been collected for the first time, Xinhua reported.\n",
      "16 id_af715c292891b7a88e2640f5: The Canadian government said Monday that one Canadian had died and three others were missing.\n",
      "17 id_69bd7b622484194f71f46824: From nibbling on toes to exposing footpath plaster Back in Kolkata, rat sightings are easy.\n",
      "18 id_111a29c3e2fe7b471d119340: Smaller competitors keep going bust, most recently Go First, which declared bankruptcy in May.\n",
      "19 id_29cded96d12298bd0b6fe159: The Northeast has a key place in the hydel power push of successive governments at the Centre.\n"
     ]
    }
   ],
   "source": [
    "import os\n",
    "\n",
    "builder.target_sentence_count = 20\n",
    "result = builder.run_algorithm()\n",
    "\n",
    "os.makedirs('temp', exist_ok = True)\n",
    "UpsamplingDatasetBuilder.write(result, 'temp/output.txt')"
   ]
  },
  {
   "cell_type": "markdown",
   "id": "d42fdfd4-7f4e-4923-a253-ab1cca8d1c74",
   "metadata": {},
   "source": [
    "The following plot is very helpful to evaluate the result. Normally, it should look like steps: every 3-7 iterations of the algorithm, the minimal representation among each phonemes is increased by 1. Since we have a very small dataset, only one \"step\" in this staircase is achieved."
   ]
  },
  {
   "cell_type": "code",
   "execution_count": 11,
   "id": "1ad764bf-b2a7-4818-a7a6-89c101f54979",
   "metadata": {
    "execution": {
     "iopub.execute_input": "2025-05-01T08:16:04.349388Z",
     "iopub.status.busy": "2025-05-01T08:16:04.349281Z",
     "iopub.status.idle": "2025-05-01T08:16:04.397014Z",
     "shell.execute_reply": "2025-05-01T08:16:04.396833Z"
    }
   },
   "outputs": [
    {
     "data": {
      "text/plain": [
       "<Axes: >"
      ]
     },
     "execution_count": 11,
     "metadata": {},
     "output_type": "execute_result"
    },
    {
     "data": {
      "image/png": "[encoded data removed]",
      "text/plain": [
       "<Figure size 640x480 with 1 Axes>"
      ]
     },
     "metadata": {},
     "output_type": "display_data"
    }
   ],
   "source": [
    "builder.get_statistics_frame(result).cumsum().min(axis=1).plot()"
   ]
  },
  {
   "cell_type": "markdown",
   "id": "2635e002-3f6b-4bc4-b004-ff175d9f04b4",
   "metadata": {},
   "source": [
    "The output of the algorithm may need further review: when taking data from real datasets, it's sometimes full with rubbish. To do the reviwew, I usually copy text from the notebook and paste into the file. When removing sentence completely, keep id: it will help to later add something to the dataset, you will be able to exclude sentences from the algorithm's scope. After this, the sentences can be extracted from the file with:"
   ]
  },
  {
   "cell_type": "code",
   "execution_count": 12,
   "id": "75b39bcd-1bc2-4428-aa06-932fb301d1c8",
   "metadata": {
    "execution": {
     "iopub.execute_input": "2025-05-01T08:16:04.398250Z",
     "iopub.status.busy": "2025-05-01T08:16:04.398139Z",
     "iopub.status.idle": "2025-05-01T08:16:04.400146Z",
     "shell.execute_reply": "2025-05-01T08:16:04.399979Z"
    }
   },
   "outputs": [
    {
     "data": {
      "text/plain": [
       "['The reasons for launching the program specifically in New Zealand and the Philippines are unclear.',\n",
       " 'Then they wait on another set of outdoor benches after clearing the security check.',\n",
       " 'It is the same stocks that we are holding and buying more of, which I have spoken about many times.',\n",
       " 'Observers say talks are the only way forward because both nuclear-armed countries have much to lose.',\n",
       " 'Notably, it is the first time that Germany has signed such a bilateral agreement.',\n",
       " 'One woman was missing after being engulfed by a landslide triggered by the quake, he said.',\n",
       " 'Also, valuation-wise, it is amazingly cheap compared to most of the other banking stocks.',\n",
       " 'Gymnastics gave her superior body awareness, while competing in triathlons built up her endurance.',\n",
       " 'The latest results, which Duggan says come as a surprise, point to a reversal of this trend.',\n",
       " 'Violent torrents struck Sikkim state on Wednesday after a high-altitude glacial lake suddenly burst.',\n",
       " 'In the United States, women cook about two more meals per week on average, than men.',\n",
       " 'The Peruvian foreign ministry said two nationals were missing, without offering any further details.',\n",
       " 'Focusing on two small countries first allows X to test out the system before expanding globally.',\n",
       " 'As with many gig economy workers, it was to cover costs while he was between jobs for two months.',\n",
       " 'The Police control room in Jaipur said there was no information yet about any loss.',\n",
       " 'Snow and ice samples at the summit had been collected for the first time, Xinhua reported.',\n",
       " 'The Canadian government said Monday that one Canadian had died and three others were missing.',\n",
       " 'From nibbling on toes to exposing footpath plaster Back in Kolkata, rat sightings are easy.',\n",
       " 'Smaller competitors keep going bust, most recently Go First, which declared bankruptcy in May.',\n",
       " 'The Northeast has a key place in the hydel power push of successive governments at the Centre.']"
      ]
     },
     "execution_count": 12,
     "metadata": {},
     "output_type": "execute_result"
    }
   ],
   "source": [
    "UpsamplingDatasetBuilder.get_sentences_from_file('temp/output.txt')"
   ]
  },
  {
   "cell_type": "markdown",
   "id": "483d8013-c21a-498a-acc6-0f16df654b2d",
   "metadata": {},
   "source": [
    "# Notes for German language\n",
    "\n",
    "For German language, we have to go differently with the capital letters, as all the nouns are capitalized. But still, we want to exclude the words that are not native to German, and this problem is additionally aggravated by the fact that German is full of anglicisms that are pronounced in the English manner by people, but not by ESpeak. Correspondingly, there will probably be a gap between the guessed transcription and the real pronounciation, which would probably decrease the quality of the model. \n",
    "\n",
    "To remove these words, I used this trick: all the capitalized words from the dataset are processed with `langdetect`, and then all the words that weren't guessed to be German is removed. A lot of native words are getting removed, too, but the quality of the dataset really increased.\n",
    "\n",
    "I will demostrate how to do it in English, although it doesn't make much sense for this language: English doesn't tolerate foreign phonemes, so it's a less of the problem"
   ]
  },
  {
   "cell_type": "code",
   "execution_count": 13,
   "id": "67388902-2309-410f-b401-ae0381ee070a",
   "metadata": {
    "execution": {
     "iopub.execute_input": "2025-05-01T08:16:04.401250Z",
     "iopub.status.busy": "2025-05-01T08:16:04.401159Z",
     "iopub.status.idle": "2025-05-01T08:16:05.724305Z",
     "shell.execute_reply": "2025-05-01T08:16:05.724094Z"
    }
   },
   "outputs": [
    {
     "data": {
      "application/vnd.jupyter.widget-view+json": {
       "model_id": "766616e6e4ec470c87f8ffecec69e1c8",
       "version_major": 2,
       "version_minor": 0
      },
      "text/plain": [
       "  0%|          | 0/49 [00:00<?, ?it/s]"
      ]
     },
     "metadata": {},
     "output_type": "display_data"
    },
    {
     "data": {
      "text/html": [
       "<div>\n",
       "<style scoped>\n",
       "    .dataframe tbody tr th:only-of-type {\n",
       "        vertical-align: middle;\n",
       "    }\n",
       "\n",
       "    .dataframe tbody tr th {\n",
       "        vertical-align: top;\n",
       "    }\n",
       "\n",
       "    .dataframe thead th {\n",
       "        text-align: right;\n",
       "    }\n",
       "</style>\n",
       "<table border=\"1\" class=\"dataframe\">\n",
       "  <thead>\n",
       "    <tr style=\"text-align: right;\">\n",
       "      <th></th>\n",
       "      <th>vi</th>\n",
       "      <th>en</th>\n",
       "      <th>pl</th>\n",
       "      <th>fi</th>\n",
       "      <th>it</th>\n",
       "      <th>nl</th>\n",
       "      <th>tr</th>\n",
       "      <th>id</th>\n",
       "      <th>pt</th>\n",
       "      <th>sw</th>\n",
       "      <th>...</th>\n",
       "      <th>cy</th>\n",
       "      <th>de</th>\n",
       "      <th>et</th>\n",
       "      <th>no</th>\n",
       "      <th>da</th>\n",
       "      <th>tl</th>\n",
       "      <th>hu</th>\n",
       "      <th>es</th>\n",
       "      <th>ro</th>\n",
       "      <th>fr</th>\n",
       "    </tr>\n",
       "    <tr>\n",
       "      <th>word</th>\n",
       "      <th></th>\n",
       "      <th></th>\n",
       "      <th></th>\n",
       "      <th></th>\n",
       "      <th></th>\n",
       "      <th></th>\n",
       "      <th></th>\n",
       "      <th></th>\n",
       "      <th></th>\n",
       "      <th></th>\n",
       "      <th></th>\n",
       "      <th></th>\n",
       "      <th></th>\n",
       "      <th></th>\n",
       "      <th></th>\n",
       "      <th></th>\n",
       "      <th></th>\n",
       "      <th></th>\n",
       "      <th></th>\n",
       "      <th></th>\n",
       "      <th></th>\n",
       "    </tr>\n",
       "  </thead>\n",
       "  <tbody>\n",
       "    <tr>\n",
       "      <th>Xinhua</th>\n",
       "      <td>1.0</td>\n",
       "      <td>0.0</td>\n",
       "      <td>0.0</td>\n",
       "      <td>0.000000</td>\n",
       "      <td>0.000000</td>\n",
       "      <td>0.000000</td>\n",
       "      <td>0.0</td>\n",
       "      <td>0.0</td>\n",
       "      <td>0.0</td>\n",
       "      <td>0.0</td>\n",
       "      <td>...</td>\n",
       "      <td>0.0</td>\n",
       "      <td>0.0</td>\n",
       "      <td>0.0</td>\n",
       "      <td>0.0</td>\n",
       "      <td>0.0</td>\n",
       "      <td>0.0</td>\n",
       "      <td>0.0</td>\n",
       "      <td>0.0</td>\n",
       "      <td>0.0</td>\n",
       "      <td>0.0</td>\n",
       "    </tr>\n",
       "    <tr>\n",
       "      <th>Back</th>\n",
       "      <td>0.0</td>\n",
       "      <td>0.0</td>\n",
       "      <td>1.0</td>\n",
       "      <td>0.000000</td>\n",
       "      <td>0.000000</td>\n",
       "      <td>0.000000</td>\n",
       "      <td>0.0</td>\n",
       "      <td>0.0</td>\n",
       "      <td>0.0</td>\n",
       "      <td>0.0</td>\n",
       "      <td>...</td>\n",
       "      <td>0.0</td>\n",
       "      <td>0.0</td>\n",
       "      <td>0.0</td>\n",
       "      <td>0.0</td>\n",
       "      <td>0.0</td>\n",
       "      <td>0.0</td>\n",
       "      <td>0.0</td>\n",
       "      <td>0.0</td>\n",
       "      <td>0.0</td>\n",
       "      <td>0.0</td>\n",
       "    </tr>\n",
       "    <tr>\n",
       "      <th>Violent</th>\n",
       "      <td>0.0</td>\n",
       "      <td>0.0</td>\n",
       "      <td>0.0</td>\n",
       "      <td>0.485687</td>\n",
       "      <td>0.500028</td>\n",
       "      <td>0.014286</td>\n",
       "      <td>0.0</td>\n",
       "      <td>0.0</td>\n",
       "      <td>0.0</td>\n",
       "      <td>0.0</td>\n",
       "      <td>...</td>\n",
       "      <td>0.0</td>\n",
       "      <td>0.0</td>\n",
       "      <td>0.0</td>\n",
       "      <td>0.0</td>\n",
       "      <td>0.0</td>\n",
       "      <td>0.0</td>\n",
       "      <td>0.0</td>\n",
       "      <td>0.0</td>\n",
       "      <td>0.0</td>\n",
       "      <td>0.0</td>\n",
       "    </tr>\n",
       "    <tr>\n",
       "      <th>Germany</th>\n",
       "      <td>0.0</td>\n",
       "      <td>0.0</td>\n",
       "      <td>0.0</td>\n",
       "      <td>0.000000</td>\n",
       "      <td>0.000000</td>\n",
       "      <td>0.000000</td>\n",
       "      <td>0.0</td>\n",
       "      <td>1.0</td>\n",
       "      <td>0.0</td>\n",
       "      <td>0.0</td>\n",
       "      <td>...</td>\n",
       "      <td>0.0</td>\n",
       "      <td>0.0</td>\n",
       "      <td>0.0</td>\n",
       "      <td>0.0</td>\n",
       "      <td>0.0</td>\n",
       "      <td>0.0</td>\n",
       "      <td>0.0</td>\n",
       "      <td>0.0</td>\n",
       "      <td>0.0</td>\n",
       "      <td>0.0</td>\n",
       "    </tr>\n",
       "    <tr>\n",
       "      <th>Post</th>\n",
       "      <td>0.0</td>\n",
       "      <td>0.0</td>\n",
       "      <td>0.0</td>\n",
       "      <td>0.000000</td>\n",
       "      <td>0.000000</td>\n",
       "      <td>0.000000</td>\n",
       "      <td>0.0</td>\n",
       "      <td>0.0</td>\n",
       "      <td>1.0</td>\n",
       "      <td>0.0</td>\n",
       "      <td>...</td>\n",
       "      <td>0.0</td>\n",
       "      <td>0.0</td>\n",
       "      <td>0.0</td>\n",
       "      <td>0.0</td>\n",
       "      <td>0.0</td>\n",
       "      <td>0.0</td>\n",
       "      <td>0.0</td>\n",
       "      <td>0.0</td>\n",
       "      <td>0.0</td>\n",
       "      <td>0.0</td>\n",
       "    </tr>\n",
       "  </tbody>\n",
       "</table>\n",
       "<p>5 rows × 23 columns</p>\n",
       "</div>"
      ],
      "text/plain": [
       "          vi   en   pl        fi        it        nl   tr   id   pt   sw  ...  \\\n",
       "word                                                                      ...   \n",
       "Xinhua   1.0  0.0  0.0  0.000000  0.000000  0.000000  0.0  0.0  0.0  0.0  ...   \n",
       "Back     0.0  0.0  1.0  0.000000  0.000000  0.000000  0.0  0.0  0.0  0.0  ...   \n",
       "Violent  0.0  0.0  0.0  0.485687  0.500028  0.014286  0.0  0.0  0.0  0.0  ...   \n",
       "Germany  0.0  0.0  0.0  0.000000  0.000000  0.000000  0.0  1.0  0.0  0.0  ...   \n",
       "Post     0.0  0.0  0.0  0.000000  0.000000  0.000000  0.0  0.0  1.0  0.0  ...   \n",
       "\n",
       "          cy   de   et   no   da   tl   hu   es   ro   fr  \n",
       "word                                                       \n",
       "Xinhua   0.0  0.0  0.0  0.0  0.0  0.0  0.0  0.0  0.0  0.0  \n",
       "Back     0.0  0.0  0.0  0.0  0.0  0.0  0.0  0.0  0.0  0.0  \n",
       "Violent  0.0  0.0  0.0  0.0  0.0  0.0  0.0  0.0  0.0  0.0  \n",
       "Germany  0.0  0.0  0.0  0.0  0.0  0.0  0.0  0.0  0.0  0.0  \n",
       "Post     0.0  0.0  0.0  0.0  0.0  0.0  0.0  0.0  0.0  0.0  \n",
       "\n",
       "[5 rows x 23 columns]"
      ]
     },
     "execution_count": 13,
     "metadata": {},
     "output_type": "execute_result"
    },
    {
     "data": {
      "image/png": "[encoded data removed]",
      "text/plain": [
       "<Figure size 640x480 with 1 Axes>"
      ]
     },
     "metadata": {},
     "output_type": "display_data"
    }
   ],
   "source": [
    "from chara.voice_clone.sentences import ForeignWordFixer\n",
    "\n",
    "sentences = FileIO.read_json(builder.locations.source)\n",
    "fixer = ForeignWordFixer(Language.English().standardizer)\n",
    "words,_ = fixer.get_capitalized_and_not_capitalized_words(sentences)\n",
    "df = fixer.get_words_statistics(words)\n",
    "df.sort_values('en').en.hist()\n",
    "df.loc[df.en<0.1].head()"
   ]
  },
  {
   "cell_type": "markdown",
   "id": "39b8a869-e44f-47fe-92dc-5132eb438360",
   "metadata": {},
   "source": [
    "Then, we save these words in the file, so they can be used by DictionaryFilter (with exclude option).\n"
   ]
  },
  {
   "cell_type": "code",
   "execution_count": 14,
   "id": "55412f67-65ac-4a20-a552-f24173bfee4f",
   "metadata": {
    "execution": {
     "iopub.execute_input": "2025-05-01T08:16:05.725449Z",
     "iopub.status.busy": "2025-05-01T08:16:05.725370Z",
     "iopub.status.idle": "2025-05-01T08:16:05.727596Z",
     "shell.execute_reply": "2025-05-01T08:16:05.727289Z"
    }
   },
   "outputs": [],
   "source": [
    "excluded_words = fixer.standardize_words(df.loc[df.en<0.2].index)\n",
    "FileIO.write_json(excluded_words, 'temp/non_english.json')"
   ]
  }
 ],
 "metadata": {
  "kernelspec": {
   "display_name": "Python 3 (ipykernel)",
   "language": "python",
   "name": "python3"
  },
  "language_info": {
   "codemirror_mode": {
    "name": "ipython",
    "version": 3
   },
   "file_extension": ".py",
   "mimetype": "text/x-python",
   "name": "python",
   "nbconvert_exporter": "python",
   "pygments_lexer": "ipython3",
   "version": "3.11.11"
  },
  "widgets": {
   "application/vnd.jupyter.widget-state+json": {
    "state": {
     "02bdc1508e1f49a780789fed7ee877be": {
      "model_module": "@jupyter-widgets/controls",
      "model_module_version": "2.0.0",
      "model_name": "ProgressStyleModel",
      "state": {
       "_model_module": "@jupyter-widgets/controls",
       "_model_module_version": "2.0.0",
       "_model_name": "ProgressStyleModel",
       "_view_count": null,
       "_view_module": "@jupyter-widgets/base",
       "_view_module_version": "2.0.0",
       "_view_name": "StyleView",
       "bar_color": null,
       "description_width": ""
      }
     },
     "1217f1c761bc4de7b5f8293407a40e07": {
      "model_module": "@jupyter-widgets/controls",
      "model_module_version": "2.0.0",
      "model_name": "FloatProgressModel",
      "state": {
       "_dom_classes": [],
       "_model_module": "@jupyter-widgets/controls",
       "_model_module_version": "2.0.0",
       "_model_name": "FloatProgressModel",
       "_view_count": null,
       "_view_module": "@jupyter-widgets/controls",
       "_view_module_version": "2.0.0",
       "_view_name": "ProgressView",
       "bar_style": "success",
       "description": "",
       "description_allow_html": false,
       "layout": "IPY_MODEL_ada6190e844e4adea9368ef6ee9babe6",
       "max": 49.0,
       "min": 0.0,
       "orientation": "horizontal",
       "style": "IPY_MODEL_bd15a680cf1147fb8cab504e51e97ad5",
       "tabbable": null,
       "tooltip": null,
       "value": 49.0
      }
     },
     "24826656ab394f1e89defd96ae0335d3": {
      "model_module": "@jupyter-widgets/base",
      "model_module_version": "2.0.0",
      "model_name": "LayoutModel",
      "state": {
       "_model_module": "@jupyter-widgets/base",
       "_model_module_version": "2.0.0",
       "_model_name": "LayoutModel",
       "_view_count": null,
       "_view_module": "@jupyter-widgets/base",
       "_view_module_version": "2.0.0",
       "_view_name": "LayoutView",
       "align_content": null,
       "align_items": null,
       "align_self": null,
       "border_bottom": null,
       "border_left": null,
       "border_right": null,
       "border_top": null,
       "bottom": null,
       "display": null,
       "flex": null,
       "flex_flow": null,
       "grid_area": null,
       "grid_auto_columns": null,
       "grid_auto_flow": null,
       "grid_auto_rows": null,
       "grid_column": null,
       "grid_gap": null,
       "grid_row": null,
       "grid_template_areas": null,
       "grid_template_columns": null,
       "grid_template_rows": null,
       "height": null,
       "justify_content": null,
       "justify_items": null,
       "left": null,
       "margin": null,
       "max_height": null,
       "max_width": null,
       "min_height": null,
       "min_width": null,
       "object_fit": null,
       "object_position": null,
       "order": null,
       "overflow": null,
       "padding": null,
       "right": null,
       "top": null,
       "visibility": null,
       "width": null
      }
     },
     "357c8c7f3f694802b3b643f6bae37306": {
      "model_module": "@jupyter-widgets/controls",
      "model_module_version": "2.0.0",
      "model_name": "HTMLModel",
      "state": {
       "_dom_classes": [],
       "_model_module": "@jupyter-widgets/controls",
       "_model_module_version": "2.0.0",
       "_model_name": "HTMLModel",
       "_view_count": null,
       "_view_module": "@jupyter-widgets/controls",
       "_view_module_version": "2.0.0",
       "_view_name": "HTMLView",
       "description": "",
       "description_allow_html": false,
       "layout": "IPY_MODEL_d7d48dff0fb648a1b54b1329c69fda4b",
       "placeholder": "​",
       "style": "IPY_MODEL_4cfcfd37b4174c6fa89e290282ed5a15",
       "tabbable": null,
       "tooltip": null,
       "value": "100%"
      }
     },
     "39b15a271ba5481db9880976ed29029e": {
      "model_module": "@jupyter-widgets/base",
      "model_module_version": "2.0.0",
      "model_name": "LayoutModel",
      "state": {
       "_model_module": "@jupyter-widgets/base",
       "_model_module_version": "2.0.0",
       "_model_name": "LayoutModel",
       "_view_count": null,
       "_view_module": "@jupyter-widgets/base",
       "_view_module_version": "2.0.0",
       "_view_name": "LayoutView",
       "align_content": null,
       "align_items": null,
       "align_self": null,
       "border_bottom": null,
       "border_left": null,
       "border_right": null,
       "border_top": null,
       "bottom": null,
       "display": null,
       "flex": null,
       "flex_flow": null,
       "grid_area": null,
       "grid_auto_columns": null,
       "grid_auto_flow": null,
       "grid_auto_rows": null,
       "grid_column": null,
       "grid_gap": null,
       "grid_row": null,
       "grid_template_areas": null,
       "grid_template_columns": null,
       "grid_template_rows": null,
       "height": null,
       "justify_content": null,
       "justify_items": null,
       "left": null,
       "margin": null,
       "max_height": null,
       "max_width": null,
       "min_height": null,
       "min_width": null,
       "object_fit": null,
       "object_position": null,
       "order": null,
       "overflow": null,
       "padding": null,
       "right": null,
       "top": null,
       "visibility": null,
       "width": null
      }
     },
     "4cfcfd37b4174c6fa89e290282ed5a15": {
      "model_module": "@jupyter-widgets/controls",
      "model_module_version": "2.0.0",
      "model_name": "HTMLStyleModel",
      "state": {
       "_model_module": "@jupyter-widgets/controls",
       "_model_module_version": "2.0.0",
       "_model_name": "HTMLStyleModel",
       "_view_count": null,
       "_view_module": "@jupyter-widgets/base",
       "_view_module_version": "2.0.0",
       "_view_name": "StyleView",
       "background": null,
       "description_width": "",
       "font_size": null,
       "text_color": null
      }
     },
     "62c31a1f95d14b67ab15b2fd6291c076": {
      "model_module": "@jupyter-widgets/base",
      "model_module_version": "2.0.0",
      "model_name": "LayoutModel",
      "state": {
       "_model_module": "@jupyter-widgets/base",
       "_model_module_version": "2.0.0",
       "_model_name": "LayoutModel",
       "_view_count": null,
       "_view_module": "@jupyter-widgets/base",
       "_view_module_version": "2.0.0",
       "_view_name": "LayoutView",
       "align_content": null,
       "align_items": null,
       "align_self": null,
       "border_bottom": null,
       "border_left": null,
       "border_right": null,
       "border_top": null,
       "bottom": null,
       "display": null,
       "flex": null,
       "flex_flow": null,
       "grid_area": null,
       "grid_auto_columns": null,
       "grid_auto_flow": null,
       "grid_auto_rows": null,
       "grid_column": null,
       "grid_gap": null,
       "grid_row": null,
       "grid_template_areas": null,
       "grid_template_columns": null,
       "grid_template_rows": null,
       "height": null,
       "justify_content": null,
       "justify_items": null,
       "left": null,
       "margin": null,
       "max_height": null,
       "max_width": null,
       "min_height": null,
       "min_width": null,
       "object_fit": null,
       "object_position": null,
       "order": null,
       "overflow": null,
       "padding": null,
       "right": null,
       "top": null,
       "visibility": null,
       "width": null
      }
     },
     "766616e6e4ec470c87f8ffecec69e1c8": {
      "model_module": "@jupyter-widgets/controls",
      "model_module_version": "2.0.0",
      "model_name": "HBoxModel",
      "state": {
       "_dom_classes": [],
       "_model_module": "@jupyter-widgets/controls",
       "_model_module_version": "2.0.0",
       "_model_name": "HBoxModel",
       "_view_count": null,
       "_view_module": "@jupyter-widgets/controls",
       "_view_module_version": "2.0.0",
       "_view_name": "HBoxView",
       "box_style": "",
       "children": [
        "IPY_MODEL_8bd08139b0ee469f96c6c8f427e1db18",
        "IPY_MODEL_1217f1c761bc4de7b5f8293407a40e07",
        "IPY_MODEL_e7d693cfa95145f88dba3c35905630b0"
       ],
       "layout": "IPY_MODEL_62c31a1f95d14b67ab15b2fd6291c076",
       "tabbable": null,
       "tooltip": null
      }
     },
     "81262f3580b54c13a12fb10b541f2b9b": {
      "model_module": "@jupyter-widgets/controls",
      "model_module_version": "2.0.0",
      "model_name": "HTMLStyleModel",
      "state": {
       "_model_module": "@jupyter-widgets/controls",
       "_model_module_version": "2.0.0",
       "_model_name": "HTMLStyleModel",
       "_view_count": null,
       "_view_module": "@jupyter-widgets/base",
       "_view_module_version": "2.0.0",
       "_view_name": "StyleView",
       "background": null,
       "description_width": "",
       "font_size": null,
       "text_color": null
      }
     },
     "884938d441a049308d96dae75eebb0d7": {
      "model_module": "@jupyter-widgets/controls",
      "model_module_version": "2.0.0",
      "model_name": "HTMLStyleModel",
      "state": {
       "_model_module": "@jupyter-widgets/controls",
       "_model_module_version": "2.0.0",
       "_model_name": "HTMLStyleModel",
       "_view_count": null,
       "_view_module": "@jupyter-widgets/base",
       "_view_module_version": "2.0.0",
       "_view_name": "StyleView",
       "background": null,
       "description_width": "",
       "font_size": null,
       "text_color": null
      }
     },
     "8bd08139b0ee469f96c6c8f427e1db18": {
      "model_module": "@jupyter-widgets/controls",
      "model_module_version": "2.0.0",
      "model_name": "HTMLModel",
      "state": {
       "_dom_classes": [],
       "_model_module": "@jupyter-widgets/controls",
       "_model_module_version": "2.0.0",
       "_model_name": "HTMLModel",
       "_view_count": null,
       "_view_module": "@jupyter-widgets/controls",
       "_view_module_version": "2.0.0",
       "_view_name": "HTMLView",
       "description": "",
       "description_allow_html": false,
       "layout": "IPY_MODEL_b2fc6808f8a74603aa4e1755021fc440",
       "placeholder": "​",
       "style": "IPY_MODEL_eb4a51e0a1254c1e988fee4d5daa6926",
       "tabbable": null,
       "tooltip": null,
       "value": "100%"
      }
     },
     "94332c277b024b2295949496c9c62fa7": {
      "model_module": "@jupyter-widgets/controls",
      "model_module_version": "2.0.0",
      "model_name": "HTMLModel",
      "state": {
       "_dom_classes": [],
       "_model_module": "@jupyter-widgets/controls",
       "_model_module_version": "2.0.0",
       "_model_name": "HTMLModel",
       "_view_count": null,
       "_view_module": "@jupyter-widgets/controls",
       "_view_module_version": "2.0.0",
       "_view_name": "HTMLView",
       "description": "",
       "description_allow_html": false,
       "layout": "IPY_MODEL_39b15a271ba5481db9880976ed29029e",
       "placeholder": "​",
       "style": "IPY_MODEL_884938d441a049308d96dae75eebb0d7",
       "tabbable": null,
       "tooltip": null,
       "value": " 50/50 [00:00&lt;00:00, 3674.96it/s]"
      }
     },
     "9e10f7293c054ec389e681b3f58691b3": {
      "model_module": "@jupyter-widgets/controls",
      "model_module_version": "2.0.0",
      "model_name": "HBoxModel",
      "state": {
       "_dom_classes": [],
       "_model_module": "@jupyter-widgets/controls",
       "_model_module_version": "2.0.0",
       "_model_name": "HBoxModel",
       "_view_count": null,
       "_view_module": "@jupyter-widgets/controls",
       "_view_module_version": "2.0.0",
       "_view_name": "HBoxView",
       "box_style": "",
       "children": [
        "IPY_MODEL_357c8c7f3f694802b3b643f6bae37306",
        "IPY_MODEL_d7642f93c0c14ea1b83f95ed14da6612",
        "IPY_MODEL_94332c277b024b2295949496c9c62fa7"
       ],
       "layout": "IPY_MODEL_bf05be12bba14fbd9e464f194b578ec4",
       "tabbable": null,
       "tooltip": null
      }
     },
     "ada6190e844e4adea9368ef6ee9babe6": {
      "model_module": "@jupyter-widgets/base",
      "model_module_version": "2.0.0",
      "model_name": "LayoutModel",
      "state": {
       "_model_module": "@jupyter-widgets/base",
       "_model_module_version": "2.0.0",
       "_model_name": "LayoutModel",
       "_view_count": null,
       "_view_module": "@jupyter-widgets/base",
       "_view_module_version": "2.0.0",
       "_view_name": "LayoutView",
       "align_content": null,
       "align_items": null,
       "align_self": null,
       "border_bottom": null,
       "border_left": null,
       "border_right": null,
       "border_top": null,
       "bottom": null,
       "display": null,
       "flex": null,
       "flex_flow": null,
       "grid_area": null,
       "grid_auto_columns": null,
       "grid_auto_flow": null,
       "grid_auto_rows": null,
       "grid_column": null,
       "grid_gap": null,
       "grid_row": null,
       "grid_template_areas": null,
       "grid_template_columns": null,
       "grid_template_rows": null,
       "height": null,
       "justify_content": null,
       "justify_items": null,
       "left": null,
       "margin": null,
       "max_height": null,
       "max_width": null,
       "min_height": null,
       "min_width": null,
       "object_fit": null,
       "object_position": null,
       "order": null,
       "overflow": null,
       "padding": null,
       "right": null,
       "top": null,
       "visibility": null,
       "width": null
      }
     },
     "b2fc6808f8a74603aa4e1755021fc440": {
      "model_module": "@jupyter-widgets/base",
      "model_module_version": "2.0.0",
      "model_name": "LayoutModel",
      "state": {
       "_model_module": "@jupyter-widgets/base",
       "_model_module_version": "2.0.0",
       "_model_name": "LayoutModel",
       "_view_count": null,
       "_view_module": "@jupyter-widgets/base",
       "_view_module_version": "2.0.0",
       "_view_name": "LayoutView",
       "align_content": null,
       "align_items": null,
       "align_self": null,
       "border_bottom": null,
       "border_left": null,
       "border_right": null,
       "border_top": null,
       "bottom": null,
       "display": null,
       "flex": null,
       "flex_flow": null,
       "grid_area": null,
       "grid_auto_columns": null,
       "grid_auto_flow": null,
       "grid_auto_rows": null,
       "grid_column": null,
       "grid_gap": null,
       "grid_row": null,
       "grid_template_areas": null,
       "grid_template_columns": null,
       "grid_template_rows": null,
       "height": null,
       "justify_content": null,
       "justify_items": null,
       "left": null,
       "margin": null,
       "max_height": null,
       "max_width": null,
       "min_height": null,
       "min_width": null,
       "object_fit": null,
       "object_position": null,
       "order": null,
       "overflow": null,
       "padding": null,
       "right": null,
       "top": null,
       "visibility": null,
       "width": null
      }
     },
     "bd15a680cf1147fb8cab504e51e97ad5": {
      "model_module": "@jupyter-widgets/controls",
      "model_module_version": "2.0.0",
      "model_name": "ProgressStyleModel",
      "state": {
       "_model_module": "@jupyter-widgets/controls",
       "_model_module_version": "2.0.0",
       "_model_name": "ProgressStyleModel",
       "_view_count": null,
       "_view_module": "@jupyter-widgets/base",
       "_view_module_version": "2.0.0",
       "_view_name": "StyleView",
       "bar_color": null,
       "description_width": ""
      }
     },
     "bf05be12bba14fbd9e464f194b578ec4": {
      "model_module": "@jupyter-widgets/base",
      "model_module_version": "2.0.0",
      "model_name": "LayoutModel",
      "state": {
       "_model_module": "@jupyter-widgets/base",
       "_model_module_version": "2.0.0",
       "_model_name": "LayoutModel",
       "_view_count": null,
       "_view_module": "@jupyter-widgets/base",
       "_view_module_version": "2.0.0",
       "_view_name": "LayoutView",
       "align_content": null,
       "align_items": null,
       "align_self": null,
       "border_bottom": null,
       "border_left": null,
       "border_right": null,
       "border_top": null,
       "bottom": null,
       "display": null,
       "flex": null,
       "flex_flow": null,
       "grid_area": null,
       "grid_auto_columns": null,
       "grid_auto_flow": null,
       "grid_auto_rows": null,
       "grid_column": null,
       "grid_gap": null,
       "grid_row": null,
       "grid_template_areas": null,
       "grid_template_columns": null,
       "grid_template_rows": null,
       "height": null,
       "justify_content": null,
       "justify_items": null,
       "left": null,
       "margin": null,
       "max_height": null,
       "max_width": null,
       "min_height": null,
       "min_width": null,
       "object_fit": null,
       "object_position": null,
       "order": null,
       "overflow": null,
       "padding": null,
       "right": null,
       "top": null,
       "visibility": null,
       "width": null
      }
     },
     "c920400a853b4167b2d15d18593f7851": {
      "model_module": "@jupyter-widgets/base",
      "model_module_version": "2.0.0",
      "model_name": "LayoutModel",
      "state": {
       "_model_module": "@jupyter-widgets/base",
       "_model_module_version": "2.0.0",
       "_model_name": "LayoutModel",
       "_view_count": null,
       "_view_module": "@jupyter-widgets/base",
       "_view_module_version": "2.0.0",
       "_view_name": "LayoutView",
       "align_content": null,
       "align_items": null,
       "align_self": null,
       "border_bottom": null,
       "border_left": null,
       "border_right": null,
       "border_top": null,
       "bottom": null,
       "display": null,
       "flex": null,
       "flex_flow": null,
       "grid_area": null,
       "grid_auto_columns": null,
       "grid_auto_flow": null,
       "grid_auto_rows": null,
       "grid_column": null,
       "grid_gap": null,
       "grid_row": null,
       "grid_template_areas": null,
       "grid_template_columns": null,
       "grid_template_rows": null,
       "height": null,
       "justify_content": null,
       "justify_items": null,
       "left": null,
       "margin": null,
       "max_height": null,
       "max_width": null,
       "min_height": null,
       "min_width": null,
       "object_fit": null,
       "object_position": null,
       "order": null,
       "overflow": null,
       "padding": null,
       "right": null,
       "top": null,
       "visibility": null,
       "width": null
      }
     },
     "d7642f93c0c14ea1b83f95ed14da6612": {
      "model_module": "@jupyter-widgets/controls",
      "model_module_version": "2.0.0",
      "model_name": "FloatProgressModel",
      "state": {
       "_dom_classes": [],
       "_model_module": "@jupyter-widgets/controls",
       "_model_module_version": "2.0.0",
       "_model_name": "FloatProgressModel",
       "_view_count": null,
       "_view_module": "@jupyter-widgets/controls",
       "_view_module_version": "2.0.0",
       "_view_name": "ProgressView",
       "bar_style": "success",
       "description": "",
       "description_allow_html": false,
       "layout": "IPY_MODEL_24826656ab394f1e89defd96ae0335d3",
       "max": 50.0,
       "min": 0.0,
       "orientation": "horizontal",
       "style": "IPY_MODEL_02bdc1508e1f49a780789fed7ee877be",
       "tabbable": null,
       "tooltip": null,
       "value": 50.0
      }
     },
     "d7d48dff0fb648a1b54b1329c69fda4b": {
      "model_module": "@jupyter-widgets/base",
      "model_module_version": "2.0.0",
      "model_name": "LayoutModel",
      "state": {
       "_model_module": "@jupyter-widgets/base",
       "_model_module_version": "2.0.0",
       "_model_name": "LayoutModel",
       "_view_count": null,
       "_view_module": "@jupyter-widgets/base",
       "_view_module_version": "2.0.0",
       "_view_name": "LayoutView",
       "align_content": null,
       "align_items": null,
       "align_self": null,
       "border_bottom": null,
       "border_left": null,
       "border_right": null,
       "border_top": null,
       "bottom": null,
       "display": null,
       "flex": null,
       "flex_flow": null,
       "grid_area": null,
       "grid_auto_columns": null,
       "grid_auto_flow": null,
       "grid_auto_rows": null,
       "grid_column": null,
       "grid_gap": null,
       "grid_row": null,
       "grid_template_areas": null,
       "grid_template_columns": null,
       "grid_template_rows": null,
       "height": null,
       "justify_content": null,
       "justify_items": null,
       "left": null,
       "margin": null,
       "max_height": null,
       "max_width": null,
       "min_height": null,
       "min_width": null,
       "object_fit": null,
       "object_position": null,
       "order": null,
       "overflow": null,
       "padding": null,
       "right": null,
       "top": null,
       "visibility": null,
       "width": null
      }
     },
     "e7d693cfa95145f88dba3c35905630b0": {
      "model_module": "@jupyter-widgets/controls",
      "model_module_version": "2.0.0",
      "model_name": "HTMLModel",
      "state": {
       "_dom_classes": [],
       "_model_module": "@jupyter-widgets/controls",
       "_model_module_version": "2.0.0",
       "_model_name": "HTMLModel",
       "_view_count": null,
       "_view_module": "@jupyter-widgets/controls",
       "_view_module_version": "2.0.0",
       "_view_name": "HTMLView",
       "description": "",
       "description_allow_html": false,
       "layout": "IPY_MODEL_c920400a853b4167b2d15d18593f7851",
       "placeholder": "​",
       "style": "IPY_MODEL_81262f3580b54c13a12fb10b541f2b9b",
       "tabbable": null,
       "tooltip": null,
       "value": " 49/49 [00:01&lt;00:00, 40.27it/s]"
      }
     },
     "eb4a51e0a1254c1e988fee4d5daa6926": {
      "model_module": "@jupyter-widgets/controls",
      "model_module_version": "2.0.0",
      "model_name": "HTMLStyleModel",
      "state": {
       "_model_module": "@jupyter-widgets/controls",
       "_model_module_version": "2.0.0",
       "_model_name": "HTMLStyleModel",
       "_view_count": null,
       "_view_module": "@jupyter-widgets/base",
       "_view_module_version": "2.0.0",
       "_view_name": "StyleView",
       "background": null,
       "description_width": "",
       "font_size": null,
       "text_color": null
      }
     }
    },
    "version_major": 2,
    "version_minor": 0
   }
  }
 },
 "nbformat": 4,
 "nbformat_minor": 5
}
